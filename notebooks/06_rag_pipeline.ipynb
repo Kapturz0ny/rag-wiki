{
 "cells": [
  {
   "cell_type": "code",
   "execution_count": 20,
   "id": "3c80e881",
   "metadata": {},
   "outputs": [
    {
     "name": "stdout",
     "output_type": "stream",
     "text": [
      "Using device: cuda\n"
     ]
    }
   ],
   "source": [
    "import os\n",
    "import json\n",
    "import torch\n",
    "import numpy as np\n",
    "from sentence_transformers import SentenceTransformer, util\n",
    "from transformers import AutoModelForCausalLM, AutoTokenizer\n",
    "from transformers.utils.quantization_config import BitsAndBytesConfig\n",
    "\n",
    "\n",
    "DATA_PROCESSED_PATH = \"../data/processed\"\n",
    "FINETUNED_RETRIEVER_PATH = \"../models/retriever_finetuned_bge_base\" \n",
    "LOCAL_GENERATOR_PATH = \"../models/generator_qwen\"\n",
    "\n",
    "WIKIPEDIA_CHUNKS_FILE = \"wikipedia_chunks_bge_base.jsonl\"\n",
    "CORPUS_EMBEDDINGS_FILE = \"corpus_embeddings_finetuned_bge_base.npy\"\n",
    "\n",
    "USE_GENERATOR_QUANTIZATION_ON_LOAD = True\n",
    "GENERATOR_QUANTIZATION_TYPE_ON_LOAD = \"int8\" \n",
    "\n",
    "TOP_K_RETRIEVER = 3 \n",
    "MAX_CONTEXT_TOKENS_FOR_GENERATOR = 2048 \n",
    "\n",
    "DEVICE = \"cuda\" if torch.cuda.is_available() else \"cpu\"\n",
    "print(f\"Using device: {DEVICE}\")\n",
    "\n",
    "wikipedia_chunks_path = os.path.join(DATA_PROCESSED_PATH, WIKIPEDIA_CHUNKS_FILE)\n",
    "corpus_embeddings_path = os.path.join(DATA_PROCESSED_PATH, CORPUS_EMBEDDINGS_FILE)\n",
    "\n",
    "if not os.path.exists(FINETUNED_RETRIEVER_PATH):\n",
    "    raise FileNotFoundError(f\"Fine-tuned retriver not found: {FINETUNED_RETRIEVER_PATH}\")\n",
    "if not os.path.exists(LOCAL_GENERATOR_PATH):\n",
    "    raise FileNotFoundError(f\"Generator not found locally: {LOCAL_GENERATOR_PATH}\")\n",
    "if not os.path.exists(wikipedia_chunks_path):\n",
    "    raise FileNotFoundError(f\"Wikipedia corpus file not found: {wikipedia_chunks_path}\")\n",
    "if not os.path.exists(corpus_embeddings_path):\n",
    "    raise FileNotFoundError(f\"Corpus embeddings file not found: {corpus_embeddings_path}\")"
   ]
  },
  {
   "cell_type": "code",
   "execution_count": 21,
   "id": "a42e883e",
   "metadata": {},
   "outputs": [
    {
     "name": "stdout",
     "output_type": "stream",
     "text": [
      "Retriever loaded.\n",
      "Loaded 36508 passages.\n",
      "Corpus embeddings loaded. Shape: (36508, 768)\n"
     ]
    }
   ],
   "source": [
    "retriever_model = SentenceTransformer(FINETUNED_RETRIEVER_PATH, device=DEVICE)\n",
    "print(\"Retriever loaded.\")\n",
    "\n",
    "corpus_passages_data = [] \n",
    "with open(wikipedia_chunks_path, 'r', encoding='utf-8') as f:\n",
    "    for line in f:\n",
    "        corpus_passages_data.append(json.loads(line))\n",
    "print(f\"Loaded {len(corpus_passages_data)} passages.\")\n",
    "\n",
    "corpus_embeddings = np.load(corpus_embeddings_path)\n",
    "print(f\"Corpus embeddings loaded. Shape: {corpus_embeddings.shape}\")"
   ]
  },
  {
   "cell_type": "code",
   "execution_count": 22,
   "id": "eda11298",
   "metadata": {},
   "outputs": [
    {
     "name": "stdout",
     "output_type": "stream",
     "text": [
      "Generator's tokenizer loaded from local path.\n"
     ]
    },
    {
     "name": "stderr",
     "output_type": "stream",
     "text": [
      "/home/mbagnows/studia/projekty/sem6/rag-wiki/.venv/lib/python3.12/site-packages/transformers/quantizers/auto.py:222: UserWarning: You passed `quantization_config` or equivalent parameters to `from_pretrained` but the model you're loading already has a `quantization_config` attribute. The `quantization_config` from the model will be used.\n",
      "  warnings.warn(warning_msg)\n"
     ]
    },
    {
     "name": "stdout",
     "output_type": "stream",
     "text": [
      "Generator loaded from local path.\n"
     ]
    }
   ],
   "source": [
    "generator_tokenizer = AutoTokenizer.from_pretrained(\n",
    "    LOCAL_GENERATOR_PATH,\n",
    "    use_fast=True,\n",
    "    trust_remote_code=True\n",
    ")\n",
    "if generator_tokenizer.pad_token_id is None:\n",
    "    generator_tokenizer.pad_token_id = generator_tokenizer.eos_token_id\n",
    "print(\"Generator's tokenizer loaded from local path.\")\n",
    "\n",
    "quantization_config_gen = BitsAndBytesConfig(load_in_8bit=True)\n",
    "model_gen_kwargs = {\n",
    "    \"device_map\": \"auto\",\n",
    "    \"trust_remote_code\": True\n",
    "}\n",
    "model_gen_kwargs[\"quantization_config\"] = quantization_config_gen\n",
    "\n",
    "generator_model = AutoModelForCausalLM.from_pretrained(\n",
    "    LOCAL_GENERATOR_PATH,\n",
    "    **model_gen_kwargs\n",
    ")\n",
    "print(\"Generator loaded from local path.\")\n"
   ]
  },
  {
   "cell_type": "code",
   "execution_count": 23,
   "id": "9cd27ba1",
   "metadata": {},
   "outputs": [],
   "source": [
    "def retrieve_contexts(query_text, top_k=TOP_K_RETRIEVER):\n",
    "    query_embedding = retriever_model.encode(query_text, convert_to_numpy=True)\n",
    "    if query_embedding.ndim == 1:\n",
    "        query_embedding = query_embedding.reshape(1, -1)\n",
    "        \n",
    "    cosine_scores = util.cos_sim(query_embedding, corpus_embeddings)[0].numpy()\n",
    "    \n",
    "    if top_k >= len(cosine_scores):\n",
    "        top_k_indices = np.argsort(cosine_scores)[::-1][:top_k]\n",
    "    else:\n",
    "        top_k_indices_unsorted = np.argpartition(-cosine_scores, range(top_k))[:top_k]\n",
    "        top_k_indices = top_k_indices_unsorted[np.argsort(-cosine_scores[top_k_indices_unsorted])]\n",
    "        \n",
    "    retrieved_passages = [corpus_passages_data[idx] for idx in top_k_indices]\n",
    "    return retrieved_passages, [float(cosine_scores[idx]) for idx in top_k_indices]\n",
    "\n",
    "\n",
    "def format_rag_prompt(query_text, retrieved_contexts_data):\n",
    "    context_str = \"\"\n",
    "    for i, context_data in enumerate(retrieved_contexts_data):\n",
    "        context_str += f\"Kontekst [{i+1}]: {context_data['passage_text']}\\n\\n\"\n",
    "    \n",
    "    instruction = (\n",
    "        \"Answer the given question USING ONLY information in provided contexts. \"\n",
    "        \"If the exact answer doesn't apper in provided context, then EXACTLY THIS: \"\n",
    "        \"'Sorry, I don't know the answer based on the articles provided.'\"\n",
    "        \"and don't say anything after that\\n\\n\"\n",
    "    )\n",
    "    \n",
    "    full_prompt_content = f\"{instruction}Dostarczone konteksty:\\n{context_str}Pytanie: {query_text}\"\n",
    "\n",
    "    messages = [{\"role\": \"user\", \"content\": full_prompt_content}]\n",
    "    formatted_prompt = generator_tokenizer.apply_chat_template(\n",
    "        messages, \n",
    "        tokenize=False, \n",
    "        add_generation_prompt=True\n",
    "    )\n",
    "    return formatted_prompt, full_prompt_content\n",
    "\n",
    "\n",
    "def generate_answer_with_rag(query_text, max_new_tokens=250, temperature=0.1, top_p=0.9, do_sample=False):\n",
    "    retrieved_contexts, scores = retrieve_contexts(query_text, top_k=TOP_K_RETRIEVER)\n",
    "    if not retrieved_contexts:\n",
    "        return \"Sorry, I failed to find any articles to answer this question.\"\n",
    "\n",
    "    print(\"\\nLoaded passages:\")\n",
    "    for i, (ctx, score) in enumerate(zip(retrieved_contexts, scores)):\n",
    "        print(f\"  Rank {i+1} ID: {ctx['passage_id']} (Score: {score:.4f}):\\\"{ctx['passage_text']}...\\\" (Dokument: {ctx['document_title']})\")\n",
    "\n",
    "\n",
    "    rag_prompt_formatted, rag_prompt_content_for_log = format_rag_prompt(query_text, retrieved_contexts)\n",
    "    prompt_token_ids = generator_tokenizer(rag_prompt_formatted, return_tensors=\"pt\").input_ids\n",
    "    inputs = generator_tokenizer(rag_prompt_formatted, return_tensors=\"pt\", padding=False, truncation=False).to(DEVICE) \n",
    "\n",
    "    with torch.no_grad():\n",
    "        outputs = generator_model.generate(\n",
    "            **inputs,\n",
    "            max_new_tokens=max_new_tokens,\n",
    "            temperature=temperature if do_sample else 1.0,\n",
    "            top_p=top_p if do_sample else 1.0,\n",
    "            do_sample=do_sample,\n",
    "            pad_token_id=generator_tokenizer.pad_token_id,\n",
    "            eos_token_id=generator_tokenizer.eos_token_id\n",
    "        )\n",
    "    \n",
    "    response_text = generator_tokenizer.decode(outputs[0][inputs.input_ids.shape[-1]:], skip_special_tokens=True)\n",
    "    \n",
    "    print(response_text)\n",
    "    return response_text"
   ]
  },
  {
   "cell_type": "code",
   "execution_count": null,
   "id": "5ccf04db",
   "metadata": {},
   "outputs": [
    {
     "name": "stdout",
     "output_type": "stream",
     "text": [
      "\n",
      "--- Testing full RAG System ---\n",
      "When did the French Revolution start?\n",
      "\n",
      "\n",
      "Loaded passages:\n",
      "  Rank 1 ID: wiki_153_chunk_0 (Score: 0.9542):\"The French Revolution (French: Révolution française [ʁevɔlysjɔ̃ fʁɑ̃sɛːz]) was a period of political and societal change in France which began with the Estates General of 1789 and ended with the Coup of 18 Brumaire on 9 November 1799. Many of the revolution's ideas are considered fundamental principles of liberal democracy, and its values remain central to modern French political discourse. The causes of the revolution were a combination of social, political, and economic factors which the ancien régime (\"old regime\") proved unable to manage. A financial crisis and widespread social distress led to the convocation of the Estates General in May 1789, its first meeting since 1614. The representatives of the Third Estate broke away and re-constituted themselves as a National Assembly in June. The Storming of the Bastille in Paris on 14 July was followed by radical measures by the Assembly, among them the abolition of feudalism, state control over the Catholic Church, and a declaration of rights. The next three years were dominated by a struggle for political control. King Louis XVI's attempted flight to Varennes in June 1791 further discredited the monarchy, and military defeats after the outbreak of the French Revolutionary Wars in April 1792 led to an armed insurrection on 10 August 1792. The monarchy was replaced by the French First Republic in September, and Louis XVI was executed in January 1793....\" (Dokument: French Revolution)\n",
      "  Rank 2 ID: wiki_112_chunk_17 (Score: 0.9387):\"=== Revolutionary France (1789–1799) === The French Revolution was a period of political and societal change that began with the Estates General of 1789, and ended with the coup of 18 Brumaire in 1799 and the formation of the French Consulate. Many of its ideas are fundamental principles of liberal democracy, while its values and institutions remain central to modern political discourse. Its causes were a combination of social, political and economic factors, which the Ancien Régime proved unable to manage. A financial crisis and social distress led in May 1789 to the convocation of the Estates General, which was converted into a National Assembly in June. The Storming of the Bastille on 14 July led to a series of radical measures by the Assembly, among them the abolition of feudalism, state control over the Catholic Church in France, and a declaration of rights. The next three years were dominated by struggle for political control, exacerbated by economic depression. Military defeats following the outbreak of the French Revolutionary Wars in April 1792 resulted in the insurrection of 10 August 1792. The monarchy was abolished and replaced by the French First Republic in September, while Louis XVI was executed in January 1793. After another revolt in June 1793, the constitution was suspended and power passed from the National Convention to the Committee of Public Safety. About 16,000 people were executed in a Reign of Terror, which ended in July 1794. Weakened by external threats and internal opposition, the Republic was replaced in 1795 by the Directory. Four years later in 1799, the Consulate seized power in a coup led by Napoleon....\" (Dokument: France)\n",
      "  Rank 3 ID: wiki_153_chunk_76 (Score: 0.9333):\"=== Europe outside France === Historians often see the impact of the Revolution as through the institutions and ideas exported by Napoleon. Economic historians Dan Bogart, Mauricio Drelichman, Oscar Gelderblom, and Jean-Laurent Rosenthal describe Napoleon's codified law as the French Revolution's \"most significant export.\" According to Daron Acemoglu, Davide Cantoni, Simon Johnson, and James A. Robinson the French Revolution had long-term effects in Europe. They suggest that \"areas that were occupied by the French and that underwent radical institutional reform experienced more rapid urbanization and economic growth, especially after 1850. There is no evidence of a negative effect of French invasion.\" The Revolution sparked intense debate in Britain. The Revolution Controversy was a \"pamphlet war\" set off by the publication of A Discourse on the Love of Our Country, a speech given by Richard Price to the Revolution Society on 4 November 1789, supporting the French Revolution. Edmund Burke responded in November 1790 with his own pamphlet, Reflections on the Revolution in France, attacking the French Revolution as a threat to the aristocracy of all countries. William Coxe opposed Price's premise that one's country is principles and people, not the State itself....\" (Dokument: French Revolution)\n",
      "The French Revolution started in May 1789 when the representatives of the Third Estate broke away and re-constituted themselves as a National Assembly in June. This marked the beginning of the revolution and the convocation of the Estates General, which was converted into a National Assembly in June.\n",
      "\n",
      "######################################################################\n",
      "\n",
      "What is the main export product of Japan according to the provided texts?\n",
      "\n",
      "\n",
      "Loaded passages:\n",
      "  Rank 1 ID: wiki_938_chunk_29 (Score: 0.8240):\"Japan has the world's fifth-largest economy by nominal GDP, after that of the United States, China, Germany and India; and the fifth-largest economy by PPP-adjusted GDP. As of 2023, Japan's labor force is the world's tenth-largest, consisting of over 69.2 million workers. As of 2024, Japan has a low unemployment rate of around 2.6%. Its poverty rate is the second highest among the G7 countries, and exceeds 15.7% of the population. Japan has the highest ratio of public debt to GDP among advanced economies, with a national debt estimated at 248% relative to GDP as of 2022. The Japanese yen is the world's third-largest reserve currency after the US dollar and the euro. In 2022, Japan was the world's fifth-largest exporter and fourth-largest importer. Its exports amounted to 18.2% of its total GDP in 2021. In 2022, Japan's main export markets were China (23.9 percent, including Hong Kong) and the United States (18.5 percent). Its main exports are motor vehicles, iron and steel products, semiconductors, and auto parts. Japan's main import markets in 2022 were China (21.1 percent), the United States (9.9 percent), and Australia (9.8 percent). Japan's main imports are machinery and equipment, fossil fuels, foodstuffs, chemicals, and raw materials....\" (Dokument: Japan)\n",
      "  Rank 2 ID: wiki_134_chunk_1 (Score: 0.7997):\"China is the world's largest manufacturing industrial economy and exporter of goods. China is widely regarded as the \"powerhouse of manufacturing\", \"the factory of the world\" and the world's \"manufacturing superpower\". Its production exceeds that of the nine next largest manufacturers combined. However, exports as a percentage of GDP have steadily dropped to just around 20%, reflecting its decreasing importance to the Chinese economy. Nevertheless, it remains the largest trading nation in the world and plays a prominent role in international trade. Manufacturing has been transitioning toward high-tech industries such as electric vehicles, renewable energy, telecommunications and IT equipment, and services has also grown as a percentage of GDP. China is the world's largest high technology exporter. As of 2021, the country spends around 2.43% of GDP to advance research and development across various sectors of the economy. It is also the world's fastest-growing consumer market and second-largest importer of goods. China is also the world's largest consumer of numerous commodities, and accounts for about half of global consumption of metals. China is a net importer of services products....\" (Dokument: Economy of China)\n",
      "  Rank 3 ID: wiki_68_chunk_24 (Score: 0.7871):\"In exports and imports, in 2020, the United States was the world's second largest exporter (US$1.64 trillion) and the largest importer (US$2.56 trillion). Mexico was the tenth largest exporter and importer. Canada was the twelfth largest exporter and importer. Brazil was the 24th largest exporter and the 28th largest importer. Chile was the 45th largest exporter and the 47th largest importer. Argentina was the 46th largest exporter and the 52nd largest importer. Colombia was the 54th largest exporter and the 51st largest importer; among others....\" (Dokument: Americas)\n",
      "Japan's main export product according to the provided texts is motor vehicles, which amounts to 18.2% of its total GDP in 2021.\n",
      "\n",
      "######################################################################\n",
      "\n",
      "Who is the current president of Mars based on the documents?\n",
      "\n",
      "\n",
      "Loaded passages:\n",
      "  Rank 1 ID: wiki_638_chunk_26 (Score: 0.7123):\"=== Pacifism === On 1 December 1948, Costa Rica abolished its military force. In 1949, the abolition of the military was introduced in Article 12 of the Costa Rican Constitution. The budget previously dedicated to the military is now dedicated to providing health care services and education. According to Deutsche Welle, \"Costa Rica is known for its stable democracy, progressive social policies, such as free, compulsory public education, high social well-being, and emphasis on environmental protection.\" For law enforcement, Costa Rica has the Public Force of Costa Rica police agency. In 2017, Costa Rica signed the UN treaty on the Prohibition of Nuclear Weapons. === Leadership in World governance initiatives === Costa Rica has been one of the signatories of the agreement to convene a convention for drafting a world constitution. As a result, in 1968, for the first time in human history, a World Constituent Assembly convened to draft and adopt the Constitution for the Federation of Earth. Francisco Orlich Bolmarcich, then president of Costa Rica signed the agreement to convene a World Constituent Assembly along with former presidents José Figueres Ferrer and Otilio Ulate Blanco. === Environmentalism === In 2021, Costa Rica, alongside Denmark, launched the \"Beyond Oil and Gas Alliance\" (BOGA) to stop the use of fossil fuels. The BOGA campaign was presented in the COP26 Climate Summit, where Sweden joined as a core member, while New Zealand and Portugal joined as associate members. == Demographics ==...\" (Dokument: Costa Rica)\n",
      "  Rank 2 ID: wiki_909_chunk_42 (Score: 0.7017):\"== Government and politics == The Republic of Cuba is a communist state that self-designates as a socialist state that adheres to the ideology of Marxism–Leninism. The Constitution of 1976, which defined Cuba as a socialist republic, was replaced by the Constitution of 1992, which is \"guided by the ideas of José Martí and the political and social ideas of Marx, Engels and Lenin.\" The constitution describes the Communist Party of Cuba as the \"leading force of society and of the state\". The political system in Cuba reflects the Marxist–Leninist concept of democratic centralism.: 38 The First Secretary of the Communist Party of Cuba is the most senior position in the one-party state. The First Secretary leads the Politburo and the Secretariat, making the office holder the most powerful person in Cuban government. Members of both councils are elected by the National Assembly of People's Power. The President of Cuba, who is also elected by the Assembly, serves for five years and since the ratification of the 2019 Constitution, there is a limit of two consecutive five-year terms....\" (Dokument: Cuba)\n",
      "  Rank 3 ID: wiki_958_chunk_52 (Score: 0.6939):\"The executive branch consisted of the president, two vice presidents, the prime minister, and the Council of Ministers (cabinet). The constitution required the president to be a Muslim but did not make Islam the state religion. On 31 January 1973, Hafez al-Assad implemented a new constitution, which led to a national crisis. Unlike previous constitutions, this one did not require that the President of Syria be a Muslim, leading to fierce demonstrations in Hama, Homs, and Aleppo organized by the Muslim Brotherhood and the traditional ulama. They labelled Assad the \"enemy of Allah\" and called for a jihad against his rule. The government survived a series of armed revolts led mostly by Islamists of the Muslim Brotherhood, between 1976 and 1982, through a series of repressions and massacres. The constitution gave the president the right to appoint ministers, to declare war and state of emergency, to issue laws (which, except in the case of emergency, require ratification by the People's Council), to declare amnesty, to amend the constitution, and to appoint civil servants and military personnel. According to the 2012 constitution, the president was elected by Syrian citizens in a direct election. Syria's legislative branch was the unicameral People's Council. The People's Council primarily served as an institution to validate Syria's one-party system and re-affirm the legislative proceedings of the Arab Socialist Ba'ath party....\" (Dokument: Syria)\n",
      "Sorry, I don't know the answer based on the articles provided.\n"
     ]
    },
    {
     "data": {
      "text/plain": [
       "\"Sorry, I don't know the answer based on the articles provided.\""
      ]
     },
     "execution_count": 25,
     "metadata": {},
     "output_type": "execute_result"
    }
   ],
   "source": [
    "test_query_rag1 = \"When did the French Revolution start?\"\n",
    "print(test_query_rag1 + \"\\n\")\n",
    "generate_answer_with_rag(test_query_rag1)\n",
    "\n",
    "print(\"\\n\" + \"#\"*70 + \"\\n\")\n",
    "\n",
    "test_query_rag2 = \"What is the main export product of Japan according to the provided texts?\" # Pytanie wymagające kontekstu\n",
    "print(test_query_rag2 + \"\\n\")\n",
    "generate_answer_with_rag(test_query_rag2)\n",
    "\n",
    "print(\"\\n\" + \"#\"*70 + \"\\n\")\n",
    "\n",
    "test_query_rag3 = \"Who is the current president of Mars based on the documents?\" # Pytanie, na które prawdopodobnie nie ma odpowiedzi\n",
    "print(test_query_rag3 + \"\\n\")\n",
    "generate_answer_with_rag(test_query_rag3)\n"
   ]
  }
 ],
 "metadata": {
  "kernelspec": {
   "display_name": ".venv",
   "language": "python",
   "name": "python3"
  },
  "language_info": {
   "codemirror_mode": {
    "name": "ipython",
    "version": 3
   },
   "file_extension": ".py",
   "mimetype": "text/x-python",
   "name": "python",
   "nbconvert_exporter": "python",
   "pygments_lexer": "ipython3",
   "version": "3.12.3"
  }
 },
 "nbformat": 4,
 "nbformat_minor": 5
}
