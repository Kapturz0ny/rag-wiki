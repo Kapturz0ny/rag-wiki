{
 "cells": [
  {
   "cell_type": "code",
   "execution_count": 5,
   "id": "464ee2e3",
   "metadata": {},
   "outputs": [
    {
     "name": "stdout",
     "output_type": "stream",
     "text": [
      "Using device: cuda\n"
     ]
    }
   ],
   "source": [
    "import os\n",
    "import json\n",
    "from sentence_transformers import SentenceTransformer, util\n",
    "import torch\n",
    "import numpy as np\n",
    "from tqdm.auto import tqdm\n",
    "\n",
    "\n",
    "DATA_PROCESSED_PATH = \"../data/processed\"\n",
    "FINETUNED_MODEL_PATH = \"../models/retriever_finetuned/best-model\"\n",
    "\n",
    "WIKIPEDIA_CHUNKS_FILE = \"wikipedia_chunks.jsonl\"\n",
    "CORPUS_EMBEDDINGS_FILE = \"corpus_embeddings_finetuned.npy\"\n",
    "\n",
    "DEVICE = \"cuda\" if torch.cuda.is_available() else \"cpu\"\n",
    "print(f\"Using device: {DEVICE}\")\n",
    "\n",
    "\n",
    "wikipedia_chunks_path = os.path.join(DATA_PROCESSED_PATH, WIKIPEDIA_CHUNKS_FILE)\n",
    "corpus_embeddings_path = os.path.join(DATA_PROCESSED_PATH, CORPUS_EMBEDDINGS_FILE)\n",
    "\n",
    "if not os.path.exists(wikipedia_chunks_path):\n",
    "    raise FileNotFoundError(f\"Wikipedia chunks file not found: {wikipedia_chunks_path}\")\n",
    "if not os.path.exists(FINETUNED_MODEL_PATH):\n",
    "    raise FileNotFoundError(f\"Fine-tuned retriever not found: {FINETUNED_MODEL_PATH}\")"
   ]
  },
  {
   "cell_type": "code",
   "execution_count": 6,
   "id": "898e60f1",
   "metadata": {},
   "outputs": [
    {
     "name": "stdout",
     "output_type": "stream",
     "text": [
      "Retriever loaded.\n"
     ]
    },
    {
     "data": {
      "application/vnd.jupyter.widget-view+json": {
       "model_id": "9f4962e312374553876e212a6506623c",
       "version_major": 2,
       "version_minor": 0
      },
      "text/plain": [
       "Loading corpus passages: 0it [00:00, ?it/s]"
      ]
     },
     "metadata": {},
     "output_type": "display_data"
    },
    {
     "name": "stdout",
     "output_type": "stream",
     "text": [
      "Loaded 36508 corpus passages.\n"
     ]
    }
   ],
   "source": [
    "retriever_model = SentenceTransformer(FINETUNED_MODEL_PATH, device=DEVICE)\n",
    "print(\"Retriever loaded.\")\n",
    "\n",
    "corpus_passages_data = []\n",
    "corpus_passage_texts = []\n",
    "\n",
    "with open(wikipedia_chunks_path, \"r\", encoding=\"utf-8\") as f:\n",
    "    for line in tqdm(f, desc=\"Loading corpus passages\"):\n",
    "        record = json.loads(line)\n",
    "        if \"passage_id\" in record and \"passage_text\" in record and record[\"passage_text\"].strip():\n",
    "            corpus_passages_data.append(record)\n",
    "            corpus_passage_texts.append(record[\"passage_text\"])\n",
    "        else:\n",
    "            print(f\"Warning: Skipping invalid record: {record}\")\n",
    "\n",
    "print(f\"Loaded {len(corpus_passages_data)} corpus passages.\")\n",
    "if not corpus_passages_data:\n",
    "    raise ValueError(\"No corpus passages loaded. Check the wikipedia_chunks_bge_base.jsonl file.\")"
   ]
  },
  {
   "cell_type": "code",
   "execution_count": 7,
   "id": "e48095a8",
   "metadata": {},
   "outputs": [
    {
     "data": {
      "application/vnd.jupyter.widget-view+json": {
       "model_id": "3a7bae921c3f482ea2a36c0be904f628",
       "version_major": 2,
       "version_minor": 0
      },
      "text/plain": [
       "Batches:   0%|          | 0/286 [00:00<?, ?it/s]"
      ]
     },
     "metadata": {},
     "output_type": "display_data"
    },
    {
     "name": "stdout",
     "output_type": "stream",
     "text": [
      "Calculated embeddings for corpus. Shape: (36508, 768)\n",
      "Embeddings saved to: ../data/processed/corpus_embeddings_finetuned.npy.\n"
     ]
    }
   ],
   "source": [
    "if os.path.exists(corpus_embeddings_path):\n",
    "    print(f\"Loading existing embeddings from: {corpus_embeddings_path}\")\n",
    "    corpus_embeddings = np.load(corpus_embeddings_path)\n",
    "\n",
    "    if corpus_embeddings.shape[0] == len(corpus_passages_data):\n",
    "        print(\n",
    "            f\"Loaded {corpus_embeddings.shape[0]} embeddings, matching the number of loaded passages.\"\n",
    "        )\n",
    "    else:\n",
    "        print(\n",
    "            f\"WARNING: Number of loaded embeddings ({corpus_embeddings.shape[0]}) \"\n",
    "            f\"does not match number of loaded passages ({len(corpus_passages_data)}). \"\n",
    "            f\"Embeddings will be recalculated.\"\n",
    "        )\n",
    "        corpus_embeddings = None\n",
    "else:\n",
    "    corpus_embeddings = None\n",
    "\n",
    "if corpus_embeddings is None:\n",
    "    corpus_embeddings = retriever_model.encode(\n",
    "        corpus_passage_texts, show_progress_bar=True, convert_to_numpy=True, batch_size=128\n",
    "    )\n",
    "    print(f\"Calculated embeddings for corpus. Shape: {corpus_embeddings.shape}\")\n",
    "\n",
    "    np.save(corpus_embeddings_path, corpus_embeddings)\n",
    "    print(f\"Embeddings saved to: {corpus_embeddings_path}.\")\n",
    "\n",
    "\n",
    "if isinstance(corpus_embeddings, torch.Tensor):\n",
    "    corpus_embeddings = corpus_embeddings.cpu().numpy()"
   ]
  },
  {
   "cell_type": "code",
   "execution_count": 8,
   "id": "ca554128",
   "metadata": {},
   "outputs": [],
   "source": [
    "def search_corpus(query_text, top_k=5):\n",
    "    \"\"\"\n",
    "    Gives top-k similar passages to the asked quesiton\n",
    "    \"\"\"\n",
    "    if not query_text.strip():\n",
    "        print(\"Empty qustion\")\n",
    "        return []\n",
    "\n",
    "    query_embedding = retriever_model.encode(query_text, convert_to_numpy=True)\n",
    "\n",
    "    if query_embedding.ndim == 1:\n",
    "        query_embedding = query_embedding.reshape(1, -1)\n",
    "\n",
    "    cosine_scores = util.cos_sim(query_embedding, corpus_embeddings)[0]\n",
    "    top_k_indices_unsorted = np.argpartition(-cosine_scores, range(top_k))[:top_k]\n",
    "    top_k_indices = top_k_indices_unsorted[np.argsort(-cosine_scores[top_k_indices_unsorted])]\n",
    "\n",
    "    results = []\n",
    "    for i, idx in enumerate(top_k_indices):\n",
    "        passage_info = corpus_passages_data[idx]\n",
    "        results.append(\n",
    "            {\n",
    "                \"rank\": i + 1,\n",
    "                \"score\": float(cosine_scores[idx]),\n",
    "                \"passage_id\": passage_info.get(\"passage_id\"),\n",
    "                \"text\": passage_info.get(\"passage_text\"),\n",
    "                \"document_title\": passage_info.get(\"document_title\", \"N/A\"),\n",
    "            }\n",
    "        )\n",
    "\n",
    "    return results"
   ]
  },
  {
   "cell_type": "code",
   "execution_count": 9,
   "id": "498d7901",
   "metadata": {},
   "outputs": [],
   "source": [
    "def print_found_passages(results):\n",
    "    for result in results:\n",
    "        print(\n",
    "            f\"  Rank {result['rank']}: Score={result['score']:.4f}, DocTitle='{result['document_title']}', PassageID='{result['passage_id']}'\"\n",
    "        )\n",
    "        print(f\"    Fragment: \\\"{result['text']}\\\"\")\n",
    "        print(\"-\" * 30)"
   ]
  },
  {
   "cell_type": "code",
   "execution_count": 10,
   "id": "bbd190f2",
   "metadata": {},
   "outputs": [
    {
     "name": "stdout",
     "output_type": "stream",
     "text": [
      "  Rank 1: Score=0.9661, DocTitle='French Revolution', PassageID='wiki_153_chunk_0'\n",
      "    Fragment: \"The French Revolution (French: Révolution française [ʁevɔlysjɔ̃ fʁɑ̃sɛːz]) was a period of political and societal change in France which began with the Estates General of 1789 and ended with the Coup of 18 Brumaire on 9 November 1799. Many of the revolution's ideas are considered fundamental principles of liberal democracy, and its values remain central to modern French political discourse. The causes of the revolution were a combination of social, political, and economic factors which the ancien régime (\"old regime\") proved unable to manage. A financial crisis and widespread social distress led to the convocation of the Estates General in May 1789, its first meeting since 1614. The representatives of the Third Estate broke away and re-constituted themselves as a National Assembly in June. The Storming of the Bastille in Paris on 14 July was followed by radical measures by the Assembly, among them the abolition of feudalism, state control over the Catholic Church, and a declaration of rights. The next three years were dominated by a struggle for political control. King Louis XVI's attempted flight to Varennes in June 1791 further discredited the monarchy, and military defeats after the outbreak of the French Revolutionary Wars in April 1792 led to an armed insurrection on 10 August 1792. The monarchy was replaced by the French First Republic in September, and Louis XVI was executed in January 1793.\"\n",
      "------------------------------\n",
      "  Rank 2: Score=0.9586, DocTitle='France', PassageID='wiki_112_chunk_17'\n",
      "    Fragment: \"=== Revolutionary France (1789–1799) === The French Revolution was a period of political and societal change that began with the Estates General of 1789, and ended with the coup of 18 Brumaire in 1799 and the formation of the French Consulate. Many of its ideas are fundamental principles of liberal democracy, while its values and institutions remain central to modern political discourse. Its causes were a combination of social, political and economic factors, which the Ancien Régime proved unable to manage. A financial crisis and social distress led in May 1789 to the convocation of the Estates General, which was converted into a National Assembly in June. The Storming of the Bastille on 14 July led to a series of radical measures by the Assembly, among them the abolition of feudalism, state control over the Catholic Church in France, and a declaration of rights. The next three years were dominated by struggle for political control, exacerbated by economic depression. Military defeats following the outbreak of the French Revolutionary Wars in April 1792 resulted in the insurrection of 10 August 1792. The monarchy was abolished and replaced by the French First Republic in September, while Louis XVI was executed in January 1793. After another revolt in June 1793, the constitution was suspended and power passed from the National Convention to the Committee of Public Safety. About 16,000 people were executed in a Reign of Terror, which ended in July 1794. Weakened by external threats and internal opposition, the Republic was replaced in 1795 by the Directory. Four years later in 1799, the Consulate seized power in a coup led by Napoleon.\"\n",
      "------------------------------\n",
      "  Rank 3: Score=0.9374, DocTitle='French Revolution', PassageID='wiki_153_chunk_73'\n",
      "    Fragment: \"=== France === The long-term impact on France was profound, shaping politics, society, religion and ideas, and polarising politics for more than a century. Historian François Aulard writes:\"From the social point of view, the Revolution consisted in the suppression of what was called the feudal system, in the emancipation of the individual, in greater division of landed property, the abolition of the privileges of noble birth, the establishment of equality, the simplification of life.... The French Revolution differed from other revolutions in being not merely national, for it aimed at benefiting all humanity.\"The revolution permanently crippled the power of the aristocracy and drained the wealth of the Church, although the two institutions survived. Hanson suggests the French underwent a fundamental transformation in self-identity, evidenced by the elimination of privileges and their replacement by intrinsic human rights. After the collapse of the First French Empire in 1815, the French public lost many of the rights and privileges earned since the revolution, but remembered the participatory politics that characterised the period. According to Paul Hanson, \"Revolution became a tradition, and republicanism an enduring option.\"\"\n",
      "------------------------------\n",
      "\n",
      "==================================================\n",
      "\n",
      "  Rank 1: Score=0.8234, DocTitle='Voivodeships of Poland', PassageID='wiki_371_chunk_14'\n",
      "    Fragment: \"=== Polish People's Republic === After World War II, the new administrative division of the country within the new national borders was based on the prewar one and included 14 (+2) voivodeships, then 17 (+5). The voivodeships in the east that had not been annexed by the Soviet Union had their borders left almost unchanged. The newly acquired territories in the west and north were organized into the new voivodeships of Szczecin, Wrocław and Olsztyn, and partly joined to Gdańsk, Katowice and Poznań voivodeships. Two cities were granted voivodeship status: Warsaw and Łódź. In 1950, new voivodeships were created: Koszalin (previously part of Szczecin), Opole (previously part of Katowice), and Zielona Góra (previously part of Poznań, Wrocław and Szczecin voivodeships). In 1957, three more cities were granted voivodeship status: Wrocław, Kraków and Poznań. Collapsed list of car registration plates from 1956 – please use table-sort buttons Poland's voivodeships 1975–1998\"\n",
      "------------------------------\n",
      "  Rank 2: Score=0.8093, DocTitle='Polish People's Republic', PassageID='wiki_370_chunk_54'\n",
      "    Fragment: \"== Administration == The Polish People's Republic was divided into several voivodeships (the Polish unit of administrative division). After World War II, the new administrative divisions were based on the pre-war ones. The areas in the East that were not annexed by the Soviet Union had their borders left almost unchanged. Newly acquired territories in the west and north were organized into the voivodeships of Szczecin, Wrocław, Olsztyn and partially joined to Gdańsk, Katowice and Poznań voivodeships. Two cities were granted voivodeship status: Warsaw and Łódź. In 1950, new voivodeships were created: Koszalin – previously part of Szczecin, Opole – previously part of Katowice, and Zielona Góra – previously part of Poznań, Wrocław and Szczecin voivodeships. In addition, three other cities were granted the voivodeship status: Wrocław, Kraków and Poznań. In 1973, Poland's voivodeships were changed again. This reorganization of the administrative division of Poland was mainly a result of local government reform acts of 1973 to 1975. In place of the three-level administrative division (voivodeship, powiat, gmina), a new two-level administrative division was introduced (49 small voivodeships and communes). The three smallest voivodeships: Warsaw, Kraków and Łódź had a special status of municipal voivodeship; the city mayor (prezydent miasta) was also province governor. == References ==\"\n",
      "------------------------------\n",
      "  Rank 3: Score=0.7982, DocTitle='Poland', PassageID='wiki_367_chunk_0'\n",
      "    Fragment: \"Poland, officially the Republic of Poland, is a country in Central Europe. It extends from the Baltic Sea in the north to the Sudetes and Carpathian Mountains in the south, bordered by Lithuania and Russia to the northeast, Belarus and Ukraine to the east, Slovakia and the Czech Republic to the south, and Germany to the west. The territory has a varied landscape, diverse ecosystems, and a temperate climate. Poland is composed of sixteen voivodeships and is the fifth most populous member state of the European Union (EU), with over 38 million people, and the fifth largest EU country by area, covering 312,696 km2 (120,733 sq mi). The capital and largest city is Warsaw; other major cities include Kraków, Wrocław, Łódź, Poznań, and Gdańsk. Prehistoric human activity on Polish soil dates to the Lower Paleolithic, with continuous settlement since the end of the Last Glacial Period. Culturally diverse throughout late antiquity, in the early medieval period the region became inhabited by the West Slavic tribal Polans, who gave Poland its name. The process of establishing statehood coincided with the conversion of a pagan ruler of the Polans to Christianity in 966 under the auspices of the Roman Catholic Church. In 1025, the Kingdom of Poland emerged, and in 1569 it cemented its long-standing association with Lithuania, forming the Polish–Lithuanian Commonwealth. At the time, the Commonwealth was one of Europe's great powers, with an elective monarchy and a uniquely liberal political system. It adopted Europe's first modern constitution in 1791.\"\n",
      "------------------------------\n",
      "\n",
      "==================================================\n",
      "\n",
      "  Rank 1: Score=0.8201, DocTitle='Italy', PassageID='wiki_877_chunk_78'\n",
      "    Fragment: \"=== Visual art === The history of Italian visual arts is significant to Western painting. Roman art was influenced by Greece and can be taken as a descendant of ancient Greek painting. The only surviving Roman paintings are wall paintings. These may contain the first examples of trompe-l'œil, pseudo-perspective, and pure landscape. The Italian Renaissance is considered to be the golden age of painting, spanning from the 14th through the mid-17th centuries and having significant influence outside Italy. Artists such as Masaccio, Filippo Lippi, Tintoretto, Sandro Botticelli, Leonardo da Vinci, Michelangelo, Raphael, and Titian took painting to a higher level through the use of perspective. Michelangelo was also active as a sculptor; his works include masterpieces such as David, Pietà, and Moses. In the 15th and 16th centuries, the High Renaissance gave rise to a stylised art known as Mannerism. In place of the balanced compositions and rational approach to perspective that characterised art at the dawn of the 16th century, the Mannerists sought instability, artifice, and doubt. The unperturbed faces and gestures of Piero della Francesca and the calm Virgins of Raphael were replaced by the troubled expressions of Pontormo and emotional intensity of El Greco.\"\n",
      "------------------------------\n",
      "  Rank 2: Score=0.8016, DocTitle='Italians', PassageID='wiki_878_chunk_58'\n",
      "    Fragment: \"The Italian Renaissance is said by many to be the golden age of painting; roughly spanning the 14th through the mid-17th centuries with a significant influence also out of the borders of modern Italy. In Italy artists like Paolo Uccello, Fra Angelico, Masaccio, Piero della Francesca, Andrea Mantegna, Filippo Lippi, Giorgione, Tintoretto, Sandro Botticelli, Leonardo da Vinci, Michelangelo, Raphael, Giovanni Bellini, and Titian took painting to a higher level through the use of perspective, the study of human anatomy and proportion, and through their development of refined drawing and painting techniques. Michelangelo was active as a sculptor from about 1500 to 1520; works include his David, Pietà, Moses. Other Renaissance sculptors include Lorenzo Ghiberti, Luca Della Robbia, Donatello, Filippo Brunelleschi and Andrea del Verrocchio.\"\n",
      "------------------------------\n",
      "  Rank 3: Score=0.7831, DocTitle='Ohio', PassageID='wiki_569_chunk_45'\n",
      "    Fragment: \"The Cincinnati Art Museum holds over 100,000 works spanning 6,000 years of human history, being among the most comprehensive collections in the Midwest. Among its notable collections are works by Master of San Baudelio, Jorge Ingles, Sandro Botticelli (Judith with Head of Holofernes), Matteo di Giovanni, Domenico Tintoretto (Portrait of Venetian dux Marino Grimani), Mattia Preti, Bernardo Strozzi, Frans Hals, Bartolomé Esteban Murillo (St. Thomas of Villanueva), Peter Paul Rubens (Samson and Delilah) and Aert van der Neer. The collection also includes works by Jean-Baptiste-Camille Corot, Pierre-Auguste Renoir, Camille Pissarro, Claude Monet (Rocks At Belle Isle), and Pablo Picasso. The museum also has a large collection of paintings by American painter Frank Duveneck (Elizabeth B. Duveneck). The Cleveland Museum of Art is internationally renowned for its substantial holdings of Asian and Egyptian art, and has a permanent collection of more than 61,000 works from around the world. It is the fourth-wealthiest art museum in the United States.\"\n",
      "------------------------------\n",
      "\n",
      "==================================================\n",
      "\n",
      "  Rank 1: Score=0.8659, DocTitle='Peru', PassageID='wiki_646_chunk_56'\n",
      "    Fragment: \"=== Mining === The country is heavily dependent on mining for the export of raw materials, which represented 61.3% of exports in 2023. In 2019, the country was the world's second largest producer of copper and zinc, eighth largest producer of gold, third largest producer of lead, the fourth largest producer of tin, the fifth largest producer of boron, and the fourth largest producer of molybdenum – not to mention gas and of oil. In 2023, it was the third largest producer of silver globally. The country has an expectant competitive position in global mining, maintaining mining leadership in Latin America and a solid mining history and trajectory little industrialized; Peru suffers from the international variation of commodity prices. The Yanacocha mine in Cajamarca is the main source of gold extraction in Peru. It is considered the largest gold mine in South America and the second largest in the world. In 2005, 3,333,088 ounces (94,491,500 g) of gold were produced. An indicator of mining growth can be seen in mining exports, having grown from US$1,447 million in 1990 to US$39,639 million in 2023. === Agriculture ===\"\n",
      "------------------------------\n",
      "  Rank 2: Score=0.8562, DocTitle='Latin America', PassageID='wiki_75_chunk_24'\n",
      "    Fragment: \"In 2019, Argentina was the fourth largest world producer of lithium, the ninth largest world producer of silver, the 17th largest world producer of gold and the seventh largest world producer of boron. Colombia is the world's largest producer of emeralds. In the production of gold, between 2006 and 2017, the country produced 15 tons per year until 2007, when its production increased significantly, breaking a record of 66.1 tons extracted in 2012. In 2017, it extracted 52.2 tons. The country is among the 25 largest gold producers in the world. In the production of silver, in 2017 the country extracted 15,5 tons. In the production of oil, Brazil was the tenth largest oil producer in the world in 2019, with 2.8 million barrels a day. Mexico was the twelfth largest, with 2.1 million barrels a day, Colombia in 20th place with 886 thousand barrels a day, Venezuela was the twenty-first place, with 877 thousand barrels a day, Ecuador in 28th with 531 thousand barrels a day and Argentina. 29th with 507 thousand barrels a day. Since Venezuela and Ecuador consume little oil and export most of their production, they are part of OPEC. Venezuela had a big drop in production after 2015 (when it produced 2.5 million barrels a day), falling in 2016 to 2.2 million, in 2017 to 2 million, in 2018 to 1.4 million and in 2019 to 877 thousand, due to lack of investment.\"\n",
      "------------------------------\n",
      "  Rank 3: Score=0.8515, DocTitle='Americas', PassageID='wiki_68_chunk_28'\n",
      "    Fragment: \"In the production of steel, the continent had 5 of the 31 largest world producers in 2019: United States (4th), Brazil (9th), Mexico (15th), Canada (18th), and Argentina (31st). In mining, the continent has large productions of gold (mainly in the United States, Canada, Peru, Mexico, Brazil, and Argentina); silver (mainly in Mexico, Peru, Chile, Bolivia, Argentina, and the United States); copper (mainly in Chile, Peru, the United States, Mexico, and Brazil); platinum (Canada and the United States); iron ore (Brazil, Canada, the United States, Peru, and Chile); zinc (Peru, the United States, Mexico, Bolivia, Canada, and Brazil); molybdenum (Chile, Peru, Mexico, Canada, and the United States); lithium (Chile, Argentina, Brazil, and Canada); lead (Peru, the United States, Mexico, and Bolivia); bauxite (Brazil, Jamaica, Canada, and the United States); tin (Peru, Bolivia, and Brazil); manganese (Brazil and Mexico); antimony (Bolivia, Mexico, Guatemala, Canada, and Ecuador); nickel (Canada, Brazil, Dominican Republic, Cuba, and the United States); niobium (Brazil and Canada); rhenium (Chile and the United States); and iodine (Chile), among others.\"\n",
      "------------------------------\n"
     ]
    }
   ],
   "source": [
    "# example retriver usage\n",
    "\n",
    "test_query_1 = \"When did the French Revolution start?\"\n",
    "retrieved_docs_1 = search_corpus(test_query_1, top_k=3)\n",
    "print_found_passages(retrieved_docs_1)\n",
    "\n",
    "print(\"\\n\" + \"=\" * 50 + \"\\n\")\n",
    "\n",
    "test_query_2 = \"What is the capital of Poland?\"\n",
    "retrieved_docs_2 = search_corpus(test_query_2, top_k=3)\n",
    "print_found_passages(retrieved_docs_2)\n",
    "\n",
    "print(\"\\n\" + \"=\" * 50 + \"\\n\")\n",
    "\n",
    "test_query_3 = \"Who painted the Mona Lisa?\"\n",
    "retrieved_docs_3 = search_corpus(test_query_3, top_k=3)\n",
    "print_found_passages(retrieved_docs_3)\n",
    "\n",
    "print(\"\\n\" + \"=\" * 50 + \"\\n\")\n",
    "\n",
    "test_query_4 = \"Who is the biggest exporter of copper?\"\n",
    "retrieved_docs_4 = search_corpus(test_query_4, top_k=3)\n",
    "print_found_passages(retrieved_docs_4)"
   ]
  }
 ],
 "metadata": {
  "kernelspec": {
   "display_name": ".venv",
   "language": "python",
   "name": "python3"
  },
  "language_info": {
   "codemirror_mode": {
    "name": "ipython",
    "version": 3
   },
   "file_extension": ".py",
   "mimetype": "text/x-python",
   "name": "python",
   "nbconvert_exporter": "python",
   "pygments_lexer": "ipython3",
   "version": "3.12.3"
  }
 },
 "nbformat": 4,
 "nbformat_minor": 5
}
