{
 "cells": [
  {
   "cell_type": "code",
   "execution_count": 13,
   "id": "105e2545",
   "metadata": {},
   "outputs": [],
   "source": [
    "import os\n",
    "import json\n",
    "from datasets import load_dataset\n",
    "import spacy\n",
    "import wikipedia as wiki\n",
    "from collections import Counter\n",
    "from tqdm.auto import tqdm\n",
    "import numpy as np\n",
    "from matplotlib import pyplot as plt\n",
    "from langchain.text_splitter import RecursiveCharacterTextSplitter\n",
    "from transformers import AutoTokenizer\n",
    "\n",
    "DATA_RAW_PATH = \"../data/raw\"\n",
    "DATA_INTERIM_PATH = \"../data/interim\"\n",
    "WIKIPEDIA_ARTICLES_PATH = os.path.join(DATA_RAW_PATH, \"wikipedia_articles\")\n",
    "\n",
    "os.makedirs(DATA_INTERIM_PATH, exist_ok=True)\n",
    "os.makedirs(WIKIPEDIA_ARTICLES_PATH, exist_ok=True)\n",
    "\n",
    "NQ_SAMPLE_SIZE = 1000\n",
    "WIKI_ARTICLE_TARGET_COUNT = 1000\n",
    "TOP_N_ENTITIES_TO_CONSIDER = 350\n",
    "MIN_ARTICLES_PER_ENTITY = 1\n",
    "MAX_ARTICLES_PER_ENTITY = 20"
   ]
  },
  {
   "cell_type": "code",
   "execution_count": 14,
   "id": "b55cb5ba",
   "metadata": {},
   "outputs": [
    {
     "name": "stdout",
     "output_type": "stream",
     "text": [
      "Started loading NQ\n",
      "Loaded NQ dataset. Length: 100231\n",
      "\n",
      "Exp[0]:\n",
      "{'query': 'when did richmond last play in a preliminary final', 'answer': \"Richmond Football Club Richmond began 2017 with 5 straight wins, a feat it had not achieved since 1995. A series of close losses hampered the Tigers throughout the middle of the season, including a 5-point loss to the Western Bulldogs, 2-point loss to Fremantle, and a 3-point loss to the Giants. Richmond ended the season strongly with convincing victories over Fremantle and St Kilda in the final two rounds, elevating the club to 3rd on the ladder. Richmond's first final of the season against the Cats at the MCG attracted a record qualifying final crowd of 95,028; the Tigers won by 51 points. Having advanced to the first preliminary finals for the first time since 2001, Richmond defeated Greater Western Sydney by 36 points in front of a crowd of 94,258 to progress to the Grand Final against Adelaide, their first Grand Final appearance since 1982. The attendance was 100,021, the largest crowd to a grand final since 1986. The Crows led at quarter time and led by as many as 13, but the Tigers took over the game as it progressed and scored seven straight goals at one point. They eventually would win by 48 points – 16.12 (108) to Adelaide's 8.12 (60) – to end their 37-year flag drought.[22] Dustin Martin also became the first player to win a Premiership medal, the Brownlow Medal and the Norm Smith Medal in the same season, while Damien Hardwick was named AFL Coaches Association Coach of the Year. Richmond's jump from 13th to premiers also marked the biggest jump from one AFL season to the next.\"}\n",
      "--------------------------------------------------\n"
     ]
    },
    {
     "data": {
      "application/vnd.jupyter.widget-view+json": {
       "model_id": "4e90ec48afe54e8883d13bf830a4b44c",
       "version_major": 2,
       "version_minor": 0
      },
      "text/plain": [
       "Processing NQ:   0%|          | 0/1000 [00:00<?, ?it/s]"
      ]
     },
     "metadata": {},
     "output_type": "display_data"
    },
    {
     "name": "stdout",
     "output_type": "stream",
     "text": [
      "Saved 1000 questions to ../data/interim/nq_questions_1000.jsonl\n"
     ]
    }
   ],
   "source": [
    "print(\"Started loading NQ\")\n",
    "\n",
    "nq_dataset = load_dataset(\"sentence-transformers/natural-questions\", split=\"train\")\n",
    "print(f\"Loaded NQ dataset. Length: {len(nq_dataset)}\")\n",
    "\n",
    "print(\"\\nExp[0]:\")\n",
    "print(nq_dataset[0])\n",
    "print(\"-\" * 50)\n",
    "\n",
    "# set seed to allow result reproduction\n",
    "nq_dataset_shuffled = nq_dataset.shuffle(seed=42)\n",
    "nq_sample = nq_dataset_shuffled.select(range(NQ_SAMPLE_SIZE))\n",
    "\n",
    "query_data = []\n",
    "for item in tqdm(nq_sample, desc=\"Processing NQ\"):\n",
    "    if item['query'].strip():\n",
    "        query_data.append({\n",
    "            \"id\": f\"nq_{len(query_data)}\", # adding ID \n",
    "            \"query\": item['query'], # keep as it is\n",
    "            \"answer\": item['answer'], # keep as it is\n",
    "        })\n",
    "\n",
    "\n",
    "nq_output_path = os.path.join(DATA_INTERIM_PATH, f\"nq_questions_{NQ_SAMPLE_SIZE}.jsonl\")\n",
    "with open(nq_output_path, 'w', encoding='utf-8') as f:\n",
    "    for q_data in query_data:\n",
    "        f.write(json.dumps(q_data) + '\\n')\n",
    "\n",
    "print(f\"Saved {len(query_data)} questions to {nq_output_path}\")"
   ]
  },
  {
   "cell_type": "code",
   "execution_count": 15,
   "id": "6a38c6b4",
   "metadata": {},
   "outputs": [
    {
     "name": "stdout",
     "output_type": "stream",
     "text": [
      "\n",
      "Started feature extraction from NQ...\n",
      "Using entities types: {'LOC', 'WORK_OF_ART', 'NORP', 'EVENT', 'ORG', 'GPE', 'LAW', 'PERSON', 'PRODUCT', 'LANGUAGE', 'FAC'}\n"
     ]
    },
    {
     "data": {
      "application/vnd.jupyter.widget-view+json": {
       "model_id": "b1eb4754c3d24b92ba041e7f6b46bfb7",
       "version_major": 2,
       "version_minor": 0
      },
      "text/plain": [
       "Entities processing:   0%|          | 0/1000 [00:00<?, ?it/s]"
      ]
     },
     "metadata": {},
     "output_type": "display_data"
    },
    {
     "name": "stdout",
     "output_type": "stream",
     "text": [
      "Got 324 entities (with repetitions).\n",
      "\n",
      "Top 10 popular entities:\n",
      "- united states: 11\n",
      "- india: 9\n",
      "- american: 9\n",
      "- british: 7\n",
      "- english: 6\n",
      "- france: 6\n",
      "- china: 6\n",
      "- french: 6\n",
      "- texas: 6\n",
      "- america: 5\n",
      "After assigning minimum (1), assigned 207 articles to 207 encji.\n",
      "793 articles left to be distributed (with limit 20).\n",
      "Total number of downloaded articles: 915 (target: 1000)\n"
     ]
    }
   ],
   "source": [
    "print(\"\\nStarted feature extraction from NQ...\")\n",
    "\n",
    "try:\n",
    "    nlp = spacy.load(\"en_core_web_sm\")\n",
    "except OSError:\n",
    "    spacy.cli.download(\"en_core_web_sm\")\n",
    "    nlp = spacy.load(\"en_core_web_sm\")\n",
    "\n",
    "all_entities_texts = []\n",
    "RELEVANT_ENTITY_TYPES = {\"PERSON\", \"NORP\", \"FAC\", \"ORG\", \"GPE\", \"LOC\", \"PRODUCT\", \"EVENT\", \"WORK_OF_ART\", \"LAW\", \"LANGUAGE\"}\n",
    "print(f\"Using entities types: {RELEVANT_ENTITY_TYPES}\")\n",
    "\n",
    "for q_data in tqdm(query_data, desc=\"Entities processing\"):\n",
    "    doc = nlp(q_data['query'])\n",
    "    for ent in doc.ents:\n",
    "        if ent.label_ in RELEVANT_ENTITY_TYPES:\n",
    "            entity_text = ent.text.strip()\n",
    "\n",
    "            # entities pre-processing\n",
    "            if entity_text.lower().startswith(\"the \"): # cut off 'the' prefix\n",
    "                entity_text = entity_text[4:]\n",
    "            if entity_text.endswith(\"'s\"):\n",
    "                entity_text = entity_text[:-2] # cut off 's suffix\n",
    "            \n",
    "            if len(entity_text) > 2: # select longer entities\n",
    "                 all_entities_texts.append(entity_text)\n",
    "\n",
    "print(f\"Got {len(all_entities_texts)} entities (with repetitions).\")\n",
    "\n",
    "# count entities frequency to check how many artiles shoud be found for particualr entity\n",
    "# more popular entities should have bigger impact on selecting articles\n",
    "# distribute artiles amount using frequency ensuring min and max number of artiles per entity\n",
    "# we want to get aprox 1k articles\n",
    "entity_counts_all = Counter(all_entities_texts)\n",
    "most_common_entities_with_counts = entity_counts_all.most_common(TOP_N_ENTITIES_TO_CONSIDER)\n",
    "\n",
    "if not most_common_entities_with_counts:\n",
    "    print(\"ERROR: no entities after processing\")\n",
    "    raise Exception\n",
    "\n",
    "print(f\"\\nTop 10 popular entities:\")\n",
    "for entity, count in most_common_entities_with_counts[:10]:\n",
    "    print(f\"- {entity}: {count}\")\n",
    "\n",
    "final_articles_per_entity = {}\n",
    "articles_assigned_so_far = 0\n",
    "temp_assigned_for_min = {}\n",
    "\n",
    "for entity_text, _ in most_common_entities_with_counts:\n",
    "    num_to_assign_min = 0\n",
    "    if articles_assigned_so_far < WIKI_ARTICLE_TARGET_COUNT:\n",
    "        num_to_assign_min = min(MIN_ARTICLES_PER_ENTITY, WIKI_ARTICLE_TARGET_COUNT - articles_assigned_so_far)\n",
    "        articles_assigned_so_far += num_to_assign_min\n",
    "    temp_assigned_for_min[entity_text] = num_to_assign_min\n",
    "    \n",
    "print(f\"After assigning minimum ({MIN_ARTICLES_PER_ENTITY}), assigned {articles_assigned_so_far} articles to {len([v for v in temp_assigned_for_min.values() if v > 0])} encji.\")\n",
    "\n",
    "remaining_articles_to_assign = WIKI_ARTICLE_TARGET_COUNT - articles_assigned_so_far\n",
    "\n",
    "if remaining_articles_to_assign > 0:\n",
    "    print(f\"{remaining_articles_to_assign} articles left to be distributed (with limit {MAX_ARTICLES_PER_ENTITY}).\")\n",
    "    \n",
    "    total_counts_for_proportion = sum(count for _, count in most_common_entities_with_counts)\n",
    "    \n",
    "    if total_counts_for_proportion > 0:\n",
    "        proportional_assignment_additional = {}\n",
    "        for entity_text, original_count in most_common_entities_with_counts:\n",
    "            proportion = original_count / total_counts_for_proportion\n",
    "            num_additional_ideal = proportion * remaining_articles_to_assign\n",
    "            proportional_assignment_additional[entity_text] = num_additional_ideal\n",
    "        \n",
    "        current_sum_after_proportional = articles_assigned_so_far\n",
    "        \n",
    "        sorted_by_ideal_additional = sorted(proportional_assignment_additional.items(), key=lambda item: item[1], reverse=True)\n",
    "\n",
    "        for entity_text, ideal_add_val in sorted_by_ideal_additional:\n",
    "            if current_sum_after_proportional >= WIKI_ARTICLE_TARGET_COUNT:\n",
    "                break # target reached\n",
    "\n",
    "            base_assigned_count = temp_assigned_for_min.get(entity_text, 0)\n",
    "            can_still_get = MAX_ARTICLES_PER_ENTITY - base_assigned_count\n",
    "            \n",
    "            actual_additional_to_add = round(min(ideal_add_val, max(0, can_still_get)))\n",
    "            actual_additional_to_add = min(actual_additional_to_add, WIKI_ARTICLE_TARGET_COUNT - current_sum_after_proportional)\n",
    "\n",
    "            final_articles_per_entity[entity_text] = base_assigned_count + actual_additional_to_add\n",
    "            current_sum_after_proportional += actual_additional_to_add\n",
    "        \n",
    "        for entity_text, base_val in temp_assigned_for_min.items():\n",
    "            if entity_text not in final_articles_per_entity:\n",
    "                final_articles_per_entity[entity_text] = base_val\n",
    "\n",
    "    else:\n",
    "        final_articles_per_entity = temp_assigned_for_min.copy()\n",
    "        \n",
    "else:\n",
    "    final_articles_per_entity = temp_assigned_for_min.copy()\n",
    "\n",
    "current_sum_final = sum(final_articles_per_entity.values())\n",
    "\n",
    "entities_for_correction_sort = [e for e, _ in most_common_entities_with_counts if e in final_articles_per_entity]\n",
    "final_articles_per_entity = {k: v for k, v in final_articles_per_entity.items() if v > 0}\n",
    "\n",
    "if final_articles_per_entity:\n",
    "    sorted_final_articles_list = sorted(final_articles_per_entity.items(), key=lambda item: item[1], reverse=True)\n",
    "    final_articles_per_entity = dict(sorted_final_articles_list)\n",
    "\n",
    "total_assigned_final_softmax = sum(final_articles_per_entity.values())\n",
    "print(f\"Total number of downloaded articles: {total_assigned_final_softmax} (target: {WIKI_ARTICLE_TARGET_COUNT})\")"
   ]
  },
  {
   "cell_type": "code",
   "execution_count": 16,
   "id": "0942b35d",
   "metadata": {},
   "outputs": [
    {
     "name": "stdout",
     "output_type": "stream",
     "text": [
      "\n",
      " Distribution of articles for top 10 enities (in total 207 enitites):\n"
     ]
    },
    {
     "data": {
      "image/png": "[encoded data removed]",
      "text/plain": [
       "<Figure size 1200x700 with 1 Axes>"
      ]
     },
     "metadata": {},
     "output_type": "display_data"
    }
   ],
   "source": [
    "# this cell is for visualisation purposes only\n",
    "\n",
    "print(f\"\\n Distribution of articles for top 10 enities (in total {len(final_articles_per_entity)} enitites):\")\n",
    "total_assigned_final_softmax = sum(final_articles_per_entity.values()) \n",
    "\n",
    "num_top_entities_to_show_individually = 10\n",
    "\n",
    "entities_for_plot = []\n",
    "article_counts_for_plot = []\n",
    "\n",
    "items_for_individual_plot = list(final_articles_per_entity.items())[:num_top_entities_to_show_individually]\n",
    "\n",
    "for entity, num_docs in items_for_individual_plot:\n",
    "    entities_for_plot.append(entity)\n",
    "    article_counts_for_plot.append(num_docs)\n",
    "\n",
    "# calculate sum for other entities (out of top 10)\n",
    "num_articles_in_top_shown = sum(article_counts_for_plot)\n",
    "num_articles_other = total_assigned_final_softmax - num_articles_in_top_shown\n",
    "entities_for_plot.append(\"other_enities\")\n",
    "article_counts_for_plot.append(num_articles_other)\n",
    "\n",
    "\n",
    "plt.figure(figsize=(12, 7))\n",
    "bars = plt.bar(entities_for_plot, article_counts_for_plot, color='mediumseagreen')\n",
    "plt.xlabel(\"Entity\")\n",
    "plt.ylabel(\"Articles amount\")\n",
    "plt.title(f\"Articles distribution (Top {num_top_entities_to_show_individually} + Other)\")\n",
    "plt.xticks(rotation=45, ha=\"right\", fontsize=10)\n",
    "\n",
    "for bar in bars:\n",
    "    yval = bar.get_height()\n",
    "    plt.text(\n",
    "        bar.get_x() + bar.get_width()/2.0,\n",
    "        yval,\n",
    "        f'{int(yval)}',\n",
    "        va='bottom',\n",
    "        ha='center',\n",
    "        color='black',\n",
    "        fontweight='bold',\n",
    "        fontsize=9\n",
    "    )\n",
    "    \n",
    "plt.ylim(0, max(article_counts_for_plot) * 1.12)\n",
    "plt.tight_layout()\n",
    "plt.show()"
   ]
  },
  {
   "cell_type": "code",
   "execution_count": 17,
   "id": "6d5c760b",
   "metadata": {},
   "outputs": [
    {
     "name": "stdout",
     "output_type": "stream",
     "text": [
      "'wikipedia' configured\n",
      "\n",
      "Starting downloading articles\n"
     ]
    },
    {
     "data": {
      "application/vnd.jupyter.widget-view+json": {
       "model_id": "fbb7fcf60edf48a98afb1cd40f506ea7",
       "version_major": 2,
       "version_minor": 0
      },
      "text/plain": [
       "Downloading articles:   0%|          | 0/1000 [00:00<?, ?it/s]"
      ]
     },
     "metadata": {},
     "output_type": "display_data"
    },
    {
     "data": {
      "application/vnd.jupyter.widget-view+json": {
       "model_id": "a4ebd03556e24ac6bfdcd824f3ba6afb",
       "version_major": 2,
       "version_minor": 0
      },
      "text/plain": [
       "Processing entities:   0%|          | 0/207 [00:00<?, ?it/s]"
      ]
     },
     "metadata": {},
     "output_type": "display_data"
    },
    {
     "name": "stdout",
     "output_type": "stream",
     "text": [
      "Error while search for 'colorado': An unknown error occured: \"We could not complete your search due to a temporary problem. Please try again later.\". Please report it on GitHub!\n",
      "Error while search for 'broncos': An unknown error occured: \"We could not complete your search due to a temporary problem. Please try again later.\". Please report it on GitHub!\n",
      "Error while search for 'scotland': An unknown error occured: \"We could not complete your search due to a temporary problem. Please try again later.\". Please report it on GitHub!\n",
      "Downloaded 884 unique articles.\n"
     ]
    },
    {
     "data": {
      "application/vnd.jupyter.widget-view+json": {
       "model_id": "5221e1e2ff284e779764ec10f75d6b16",
       "version_major": 2,
       "version_minor": 0
      },
      "text/plain": [
       "Saving Wiki corpus:   0%|          | 0/884 [00:00<?, ?it/s]"
      ]
     },
     "metadata": {},
     "output_type": "display_data"
    },
    {
     "name": "stdout",
     "output_type": "stream",
     "text": [
      "Saved corpus (884 articles) to ../data/interim/wikipedia_corpus_884.jsonl\n"
     ]
    }
   ],
   "source": [
    "wiki.set_lang(\"en\")\n",
    "wiki.set_user_agent(\"MyRAGProject/1.0 (https://github.com/Kapturz0ny/rag-wiki; marcin.bagnowski@o2.pl)\")\n",
    "print(\"'wikipedia' configured\")\n",
    "\n",
    "print(\"\\nStarting downloading articles\")\n",
    "\n",
    "downloaded_articles_map = {}\n",
    "downloaded_titles_set = set() # to avoid duplicates\n",
    "\n",
    "MIN_ARTICLE_LENGTH = 300\n",
    "\n",
    "articles_pbar = tqdm(total=WIKI_ARTICLE_TARGET_COUNT, desc=\"Downloading articles\")\n",
    "\n",
    "entities_to_process_ordered = [entity for entity, _ in most_common_entities_with_counts if entity in final_articles_per_entity]\n",
    "\n",
    "for entity_text in tqdm(entities_to_process_ordered, desc=\"Processing entities\"):\n",
    "    if len(downloaded_articles_map) >= WIKI_ARTICLE_TARGET_COUNT:\n",
    "        print(f\"Finished\")\n",
    "        break\n",
    "\n",
    "    num_articles_to_fetch_for_entity = final_articles_per_entity.get(entity_text, 0)\n",
    "    if num_articles_to_fetch_for_entity == 0:\n",
    "        continue\n",
    "    \n",
    "    # increase a limit a little as some artiles might duplicate or something...\n",
    "    search_limit = max(num_articles_to_fetch_for_entity + 2, int(num_articles_to_fetch_for_entity * 1.5))\n",
    "    \n",
    "    try:\n",
    "        # this gives top-k (serach_limit) artiles titles found for given entity\n",
    "        search_results_titles = wiki.search(entity_text, results=search_limit)\n",
    "    except Exception as e:\n",
    "        print(f\"Error while search for '{entity_text}': {e}\")\n",
    "        search_results_titles = []\n",
    "\n",
    "\n",
    "    articles_found_for_this_entity = 0\n",
    "    for page_title_from_search in search_results_titles:\n",
    "        if len(downloaded_articles_map) >= WIKI_ARTICLE_TARGET_COUNT:\n",
    "            break \n",
    "        if articles_found_for_this_entity >= num_articles_to_fetch_for_entity:\n",
    "            break \n",
    "\n",
    "        normalized_search_title = page_title_from_search.lower()\n",
    "        if normalized_search_title in downloaded_titles_set:\n",
    "            continue\n",
    "\n",
    "        try:\n",
    "            # returns page for given title\n",
    "            page_obj = wiki.page(page_title_from_search, auto_suggest=False, redirect=True) \n",
    "            \n",
    "            page_content = page_obj.content \n",
    "            page_actual_title = page_obj.title \n",
    "\n",
    "            if page_actual_title.lower() in downloaded_titles_set:\n",
    "                continue\n",
    "\n",
    "        except wiki.exceptions.PageError:\n",
    "            # page not found\n",
    "            continue\n",
    "        except Exception as e:\n",
    "            continue\n",
    "\n",
    "        if page_content and len(page_content) > MIN_ARTICLE_LENGTH:\n",
    "            if not isinstance(page_actual_title, str): # save check\n",
    "                continue\n",
    "\n",
    "            sane_title = page_actual_title.replace(\"/\", \"_\").replace(\"\\\\\", \"_\")\n",
    "            \n",
    "            article_path = os.path.join(WIKIPEDIA_ARTICLES_PATH, f\"{sane_title}.txt\")\n",
    "            try:\n",
    "                with open(article_path, 'w', encoding='utf-8') as f_art:\n",
    "                    f_art.write(page_content)\n",
    "            except Exception as e:\n",
    "                print(f\"Error saving article '{sane_title}': {e}\")\n",
    "                continue\n",
    "\n",
    "            downloaded_articles_map[page_actual_title] = page_content\n",
    "            downloaded_titles_set.add(page_actual_title.lower())\n",
    "            downloaded_titles_set.add(normalized_search_title)\n",
    "            \n",
    "            articles_pbar.update(1)\n",
    "            articles_pbar.set_postfix({\"Downloaded\": len(downloaded_articles_map)})\n",
    "            articles_found_for_this_entity += 1\n",
    "        else:\n",
    "            if page_content and len(page_content) <= MIN_ARTICLE_LENGTH:\n",
    "                print(f\"Article '{page_actual_title}' (for entity '{entity_text}') too short ({len(page_content)} chars).\")\n",
    "\n",
    "articles_pbar.close()\n",
    "\n",
    "print(f\"Downloaded {len(downloaded_articles_map)} unique articles.\")\n",
    "\n",
    "wiki_corpus_output_path = os.path.join(DATA_INTERIM_PATH, f\"wikipedia_corpus_{len(downloaded_articles_map)}.jsonl\")\n",
    "with open(wiki_corpus_output_path, 'w', encoding='utf-8') as f:\n",
    "    for idx, (title, text) in enumerate(tqdm(downloaded_articles_map.items(), desc=\"Saving Wiki corpus\")):\n",
    "        f.write(json.dumps({\"id\": f\"wiki_{idx}\", \"title\": title, \"text\": text}) + '\\n')\n",
    "print(f\"Saved corpus ({len(downloaded_articles_map)} articles) to {wiki_corpus_output_path}\")"
   ]
  },
  {
   "cell_type": "code",
   "execution_count": 18,
   "id": "67a7192d",
   "metadata": {},
   "outputs": [
    {
     "name": "stdout",
     "output_type": "stream",
     "text": [
      "Used Wikipedia corpus file: ../data/interim/wikipedia_corpus_961.jsonl\n",
      "Loaded tokenizer: BAAI/bge-large-en-v1.5\n"
     ]
    },
    {
     "data": {
      "application/vnd.jupyter.widget-view+json": {
       "model_id": "45b885870d234d31b07d4964c1e04af4",
       "version_major": 2,
       "version_minor": 0
      },
      "text/plain": [
       "Processing articles:   0%|          | 0/961 [00:00<?, ?it/s]"
      ]
     },
     "metadata": {},
     "output_type": "display_data"
    },
    {
     "name": "stderr",
     "output_type": "stream",
     "text": [
      "Token indices sequence length is longer than the specified maximum sequence length for this model (745 > 512). Running this sequence through the model will result in indexing errors\n"
     ]
    },
    {
     "name": "stdout",
     "output_type": "stream",
     "text": [
      "\n",
      "Processed 961 articles.\n",
      "Created 36508 chunks.\n",
      "Avg 37.99 chunks per article.\n"
     ]
    },
    {
     "data": {
      "application/vnd.jupyter.widget-view+json": {
       "model_id": "4cc93e846e4449a4ade458f47eb13fb6",
       "version_major": 2,
       "version_minor": 0
      },
      "text/plain": [
       "Saving chunks:   0%|          | 0/36508 [00:00<?, ?it/s]"
      ]
     },
     "metadata": {},
     "output_type": "display_data"
    },
    {
     "name": "stdout",
     "output_type": "stream",
     "text": [
      "Saved 36508 chunks to ../data/interim/wikipedia_chunks_bge_base.jsonl\n"
     ]
    }
   ],
   "source": [
    "wiki_corpus_files = [f for f in os.listdir(DATA_INTERIM_PATH) if f.startswith(\"wikipedia_corpus_\") and f.endswith(\".jsonl\")]\n",
    "if not wiki_corpus_files:\n",
    "    raise FileNotFoundError(f\"Not found wikipedia_corpus_*.jsonl in {DATA_INTERIM_PATH}\")\n",
    "WIKIPEDIA_CORPUS_PATH = os.path.join(DATA_INTERIM_PATH, sorted(wiki_corpus_files)[-1]) # Use the newest/biggest document\n",
    "print(f\"Used Wikipedia corpus file: {WIKIPEDIA_CORPUS_PATH}\")\n",
    "\n",
    "WIKIPEDIA_CHUNKS_PATH = os.path.join(DATA_INTERIM_PATH, \"wikipedia_chunks_bge_base.jsonl\")\n",
    "\n",
    "RETRIEVER_TOKENIZER_NAME = \"BAAI/bge-large-en-v1.5\" # will be used to calculate lenght of the tokenized articles\n",
    "\n",
    "try:\n",
    "    tokenizer = AutoTokenizer.from_pretrained(RETRIEVER_TOKENIZER_NAME)\n",
    "    print(f\"Loaded tokenizer: {RETRIEVER_TOKENIZER_NAME}\")\n",
    "    \n",
    "    def retriever_tokens_counter(text: str) -> int:\n",
    "        return len(tokenizer.encode(text, add_special_tokens=False)) # to don't count special tokens \n",
    "    \n",
    "    CHUNK_SIZE_TOKENS = 320    # Target lenght in tokens for bge-base-en-v1.5\n",
    "    CHUNK_OVERLAP_TOKENS = 64  # Overlap size (in tokens)\n",
    "    LENGTH_FUNCTION = retriever_tokens_counter\n",
    "\n",
    "except Exception as e:\n",
    "    raise SystemExit(f\"Error loading tokenizer {RETRIEVER_TOKENIZER_NAME}\")\n",
    "\n",
    "\n",
    "# splitter init\n",
    "text_splitter = RecursiveCharacterTextSplitter(\n",
    "    chunk_size=CHUNK_SIZE_TOKENS,\n",
    "    chunk_overlap=CHUNK_OVERLAP_TOKENS,\n",
    "    length_function=LENGTH_FUNCTION,\n",
    "    separators=[\"\\n\\n\", \"\\n\", \". \", \"? \", \"! \", \", \", \" \", \"\"], \n",
    "    keep_separator=False \n",
    ")\n",
    "\n",
    "all_chunks_data = []\n",
    "total_articles_processed = 0\n",
    "total_chunks_created = 0\n",
    "\n",
    "\n",
    "try:\n",
    "    with open(WIKIPEDIA_CORPUS_PATH, 'r', encoding='utf-8') as f_corpus:\n",
    "        first_line = f_corpus.readline()\n",
    "        if not first_line:\n",
    "            raise ValueError(f\"File {WIKIPEDIA_CORPUS_PATH} is empty.\")\n",
    "        \n",
    "        # set cursor to file's beggining\n",
    "        f_corpus.seek(0)\n",
    "        \n",
    "        article_lines = f_corpus.readlines()\n",
    "\n",
    "    for line in tqdm(article_lines, desc=\"Processing articles\"):\n",
    "        try:\n",
    "            article = json.loads(line)\n",
    "            article_id = article.get(\"id\", f\"unknown_id_{total_articles_processed}\")\n",
    "            article_title = article.get(\"title\", \"Unknown Title\")\n",
    "            article_text = article.get(\"text\", \"\")\n",
    "\n",
    "            if not article_text.strip():\n",
    "                continue\n",
    "\n",
    "            raw_chunks = text_splitter.split_text(article_text)\n",
    "            \n",
    "            for i, chunk_text in enumerate(raw_chunks):\n",
    "                cleaned_chunk_text = ' '.join(chunk_text.split())\n",
    "                if not cleaned_chunk_text or len(cleaned_chunk_text) < 30:\n",
    "                    continue\n",
    "\n",
    "                chunk_id = f\"{article_id}_chunk_{i}\"\n",
    "                chunk_data = {\n",
    "                    \"passage_id\": chunk_id,\n",
    "                    \"document_id\": article_id, \n",
    "                    \"document_title\": article_title, \n",
    "                    \"passage_text\": cleaned_chunk_text,\n",
    "                    \"chunk_index\": i \n",
    "                }\n",
    "                all_chunks_data.append(chunk_data)\n",
    "                total_chunks_created += 1\n",
    "            \n",
    "            total_articles_processed += 1\n",
    "        except json.JSONDecodeError:\n",
    "            print(f\"Error decoding JSON in line: {line.strip()}\")\n",
    "        except Exception as e:\n",
    "            print(f\"Error processing article line ('{article_title if 'article_title' in locals() else 'N/A'}'): {e}\")\n",
    "\n",
    "except ValueError as ve:\n",
    "    print(str(ve))\n",
    "except Exception as general_e:\n",
    "    print(f\"General error {general_e}\")\n",
    "\n",
    "\n",
    "print(f\"\\nProcessed {total_articles_processed} articles.\")\n",
    "print(f\"Created {total_chunks_created} chunks.\")\n",
    "if total_articles_processed > 0:\n",
    "    print(f\"Avg {total_chunks_created / total_articles_processed:.2f} chunks per article.\")\n",
    "\n",
    "\n",
    "with open(WIKIPEDIA_CHUNKS_PATH, 'w', encoding='utf-8') as f_chunks:\n",
    "    for chunk_data in tqdm(all_chunks_data, desc=\"Saving chunks\"):\n",
    "        f_chunks.write(json.dumps(chunk_data) + '\\n')\n",
    "print(f\"Saved {len(all_chunks_data)} chunks to {WIKIPEDIA_CHUNKS_PATH}\")\n"
   ]
  }
 ],
 "metadata": {
  "kernelspec": {
   "display_name": ".venv",
   "language": "python",
   "name": "python3"
  },
  "language_info": {
   "codemirror_mode": {
    "name": "ipython",
    "version": 3
   },
   "file_extension": ".py",
   "mimetype": "text/x-python",
   "name": "python",
   "nbconvert_exporter": "python",
   "pygments_lexer": "ipython3",
   "version": "3.12.3"
  }
 },
 "nbformat": 4,
 "nbformat_minor": 5
}
