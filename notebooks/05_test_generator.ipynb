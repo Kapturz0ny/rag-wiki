{
 "cells": [
  {
   "cell_type": "code",
   "execution_count": 1,
   "id": "613adb93",
   "metadata": {},
   "outputs": [
    {
     "name": "stdout",
     "output_type": "stream",
     "text": [
      "Using device: cuda\n"
     ]
    }
   ],
   "source": [
    "import torch\n",
    "from transformers import AutoModelForCausalLM, AutoTokenizer\n",
    "from transformers.utils.quantization_config import BitsAndBytesConfig\n",
    "import os\n",
    "\n",
    "\n",
    "GENERATOR_MODEL_NAME = \"Qwen/Qwen1.5-1.8B-Chat\"\n",
    "LOCAL_GENERATOR_SAVE_PATH = \"../models/generator_qwen\"\n",
    "os.makedirs(LOCAL_GENERATOR_SAVE_PATH, exist_ok=True)\n",
    "\n",
    "USE_QUANTIZATION = True\n",
    "QUANTIZATION_TYPE = \"int8\"\n",
    "DEVICE = \"cuda\" if torch.cuda.is_available() else \"cpu\"\n",
    "print(f\"Using device: {DEVICE}\")"
   ]
  },
  {
   "cell_type": "code",
   "execution_count": 2,
   "id": "9c10c1ab",
   "metadata": {},
   "outputs": [
    {
     "name": "stdout",
     "output_type": "stream",
     "text": [
      "Tokenizer loaded.\n",
      "Loading model Qwen/Qwen1.5-1.8B-Chat\n",
      "Generator loaded.\n"
     ]
    }
   ],
   "source": [
    "tokenizer = AutoTokenizer.from_pretrained(\n",
    "    GENERATOR_MODEL_NAME,\n",
    "    use_fast=True,\n",
    "    trust_remote_code=True,\n",
    ")\n",
    "print(\"Tokenizer loaded.\")\n",
    "\n",
    "if tokenizer.pad_token_id is None:\n",
    "    tokenizer.pad_token_id = tokenizer.eos_token_id\n",
    "    print(f\"Set pad_token_id to eos_token_id: {tokenizer.eos_token_id}\")\n",
    "\n",
    "quantization_config = BitsAndBytesConfig(\n",
    "    load_in_8bit=True,\n",
    "    trust_remote_code=True,\n",
    ")\n",
    "\n",
    "print(f\"Loading model {GENERATOR_MODEL_NAME}\")\n",
    "model_kwargs = {\"device_map\": \"auto\"}\n",
    "\n",
    "model_kwargs[\"quantization_config\"] = quantization_config\n",
    "\n",
    "model = AutoModelForCausalLM.from_pretrained(GENERATOR_MODEL_NAME, **model_kwargs)\n",
    "print(\"Generator loaded.\")"
   ]
  },
  {
   "cell_type": "code",
   "execution_count": null,
   "id": "903a7268",
   "metadata": {},
   "outputs": [
    {
     "name": "stdout",
     "output_type": "stream",
     "text": [
      "\n",
      "Zapisywanie modelu i tokenizatora do: ../models/generator_qwen\n",
      "Model i tokenizer zapisane lokalnie.\n",
      "UWAGA: Model został załadowany z kwantyzacją. Standardowe `save_pretrained`\n",
      "zapisuje wagi modelu (potencjalnie bez kwantyzacji lub w pełnej precyzji, jeśli to możliwe).\n",
      "Aby ponownie załadować model z kwantyzacją z lokalnej ścieżki,\n",
      "nadal będziesz musiał przekazać `quantization_config` do `from_pretrained`.\n",
      "Lepszym podejściem może być poleganie na cache Hugging Face dla modeli kwantyzowanych,\n",
      "lub badanie specyficznych metod zapisu/ładowania dla `bitsandbytes`.\n"
     ]
    }
   ],
   "source": [
    "model.save_pretrained(LOCAL_GENERATOR_SAVE_PATH)\n",
    "tokenizer.save_pretrained(LOCAL_GENERATOR_SAVE_PATH)\n",
    "print(\"Model and tokenizer saved localy.\")"
   ]
  },
  {
   "cell_type": "code",
   "execution_count": 3,
   "id": "42c89872",
   "metadata": {},
   "outputs": [],
   "source": [
    "def generate_response(prompt, max_new_tokens=200, temperature=0.7, top_p=0.9, do_sample=True):\n",
    "    # format prompt to model prompt format\n",
    "    messages = [{\"role\": \"user\", \"content\": prompt}]\n",
    "    formatted_prompt = tokenizer.apply_chat_template(\n",
    "        messages, tokenize=False, add_generation_prompt=True\n",
    "    )\n",
    "\n",
    "    # tokenize prompt\n",
    "    inputs = tokenizer(formatted_prompt, return_tensors=\"pt\", padding=False, truncation=True).to(\n",
    "        DEVICE\n",
    "    )\n",
    "\n",
    "    with torch.no_grad():\n",
    "        outputs = model.generate(\n",
    "            **inputs,\n",
    "            max_new_tokens=max_new_tokens,\n",
    "            temperature=temperature if do_sample else 1.0,\n",
    "            top_p=top_p if do_sample else 1.0,\n",
    "            do_sample=do_sample,\n",
    "            pad_token_id=tokenizer.pad_token_id,\n",
    "            eos_token_id=tokenizer.eos_token_id\n",
    "        )\n",
    "\n",
    "    # skip prompt tokens in response\n",
    "    response_text = tokenizer.decode(\n",
    "        outputs[0][inputs.input_ids.shape[-1] :], skip_special_tokens=True\n",
    "    )\n",
    "    return response_text"
   ]
  },
  {
   "cell_type": "code",
   "execution_count": 7,
   "id": "77d7c3ec",
   "metadata": {},
   "outputs": [
    {
     "name": "stdout",
     "output_type": "stream",
     "text": [
      "Prompt: What is the capital of France?\n",
      "Response: The capital of France is Paris. It is located in the central-western part of the country and is the largest city in France, with a population\n",
      "\n",
      "==================================================\n",
      "\n",
      "Prompt: Explain the concept of black holes in simple terms.\n",
      "Response: A black hole is a region of space-time where gravity is so strong that nothing, not even light, can escape from it. It occurs when a\n",
      "\n",
      "==================================================\n",
      "\n",
      "Prompt: Write a short story about a friendly robot who discovers a hidden garden.\n",
      "Response: Once upon a time, there was a friendly robot named Zora who lived in a vast factory. Zora was programmed to perform various tasks for the\n",
      "\n",
      "==================================================\n",
      "\n",
      "Prompt: Translate the following English sentence to Polish: 'Hello, how are you today?'\n",
      "Response: Pani, jak jest ci dzisiaj?\n"
     ]
    }
   ],
   "source": [
    "prompt1 = \"What is the capital of France?\"\n",
    "print(\"Prompt: \" + prompt1)\n",
    "response = generate_response(prompt1, max_new_tokens=30)\n",
    "print(\"Response: \" + response)\n",
    "\n",
    "print(\"\\n\" + \"=\" * 50 + \"\\n\")\n",
    "\n",
    "prompt2 = \"Explain the concept of black holes in simple terms.\"\n",
    "print(\"Prompt: \" + prompt2)\n",
    "response = generate_response(prompt2, max_new_tokens=30)\n",
    "print(\"Response: \" + response)\n",
    "\n",
    "print(\"\\n\" + \"=\" * 50 + \"\\n\")\n",
    "\n",
    "prompt3 = \"Write a short story about a friendly robot who discovers a hidden garden.\"\n",
    "print(\"Prompt: \" + prompt3)\n",
    "response = generate_response(prompt3, max_new_tokens=30, temperature=0.8)\n",
    "print(\"Response: \" + response)\n",
    "\n",
    "print(\"\\n\" + \"=\" * 50 + \"\\n\")\n",
    "\n",
    "prompt4 = \"Translate the following English sentence to Polish: 'Hello, how are you today?'\"\n",
    "print(\"Prompt: \" + prompt4)\n",
    "response = generate_response(prompt4, max_new_tokens=30)\n",
    "print(\"Response: \" + response)"
   ]
  }
 ],
 "metadata": {
  "kernelspec": {
   "display_name": ".venv",
   "language": "python",
   "name": "python3"
  },
  "language_info": {
   "codemirror_mode": {
    "name": "ipython",
    "version": 3
   },
   "file_extension": ".py",
   "mimetype": "text/x-python",
   "name": "python",
   "nbconvert_exporter": "python",
   "pygments_lexer": "ipython3",
   "version": "3.12.3"
  }
 },
 "nbformat": 4,
 "nbformat_minor": 5
}
