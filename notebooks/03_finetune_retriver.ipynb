{
 "cells": [
  {
   "cell_type": "code",
   "execution_count": 1,
   "id": "eed8eac7",
   "metadata": {},
   "outputs": [
    {
     "name": "stdout",
     "output_type": "stream",
     "text": [
      "Using device: cuda\n"
     ]
    }
   ],
   "source": [
    "import os\n",
    "import json\n",
    "from tqdm.auto import tqdm\n",
    "from sentence_transformers import SentenceTransformer, InputExample, losses, LoggingHandler\n",
    "from torch.utils.data import DataLoader\n",
    "import logging\n",
    "import math\n",
    "import torch\n",
    "\n",
    "\n",
    "logging.basicConfig(format='%(asctime)s - %(message)s',\n",
    "                    datefmt='%Y-%m-%d %H:%M:%S',\n",
    "                    level=logging.INFO,\n",
    "                    handlers=[LoggingHandler()])\n",
    "\n",
    "\n",
    "DATA_PROCESSED_PATH = \"../data/processed\"\n",
    "TRAINING_DATA_FILE = \"retriever_training_data.jsonl\"\n",
    "MODEL_BASE_NAME = \"BAAI/bge-base-en-v1.5\" # retriver for fine-tuning\n",
    "FINETUNED_MODEL_SAVE_PATH = \"../models/retriever_finetuned_bge_base\"\n",
    "\n",
    "\n",
    "NUM_EPOCHS = 3\n",
    "TRAIN_BATCH_SIZE = 16\n",
    "\n",
    "DEVICE = \"cuda\" if torch.cuda.is_available() else \"cpu\"\n",
    "print(f\"Using device: {DEVICE}\")\n",
    "\n",
    "\n",
    "training_data_path = os.path.join(DATA_PROCESSED_PATH, TRAINING_DATA_FILE)\n",
    "os.makedirs(FINETUNED_MODEL_SAVE_PATH, exist_ok=True)\n",
    "\n",
    "if not os.path.exists(training_data_path):\n",
    "    raise FileNotFoundError(f\"Training file not found: {training_data_path}\")"
   ]
  },
  {
   "cell_type": "code",
   "execution_count": 2,
   "id": "e898eebb",
   "metadata": {},
   "outputs": [
    {
     "data": {
      "application/vnd.jupyter.widget-view+json": {
       "model_id": "defa7d855d224bdbaf62d7f259b75f7d",
       "version_major": 2,
       "version_minor": 0
      },
      "text/plain": [
       "Loading training data: 0it [00:00, ?it/s]"
      ]
     },
     "metadata": {},
     "output_type": "display_data"
    }
   ],
   "source": [
    "train_samples = []\n",
    "with open(training_data_path, 'r', encoding='utf-8') as f:\n",
    "    for line in tqdm(f, desc=\"Loading training data\"):\n",
    "        data = json.loads(line)\n",
    "        train_samples.append(InputExample(texts=[data['query'], data['passage']], label=float(data['label'])))\n",
    "\n",
    "if not train_samples:\n",
    "    raise ValueError(\"Training data not loaded\")"
   ]
  },
  {
   "cell_type": "code",
   "execution_count": 3,
   "id": "252d670e",
   "metadata": {},
   "outputs": [
    {
     "name": "stdout",
     "output_type": "stream",
     "text": [
      "2025-06-02 21:41:08 - Load pretrained SentenceTransformer: BAAI/bge-base-en-v1.5\n",
      "Base model loaded.\n"
     ]
    }
   ],
   "source": [
    "model = SentenceTransformer(MODEL_BASE_NAME, device=DEVICE)\n",
    "print(\"Base model loaded.\")\n",
    "\n",
    "train_dataloader = DataLoader(train_samples, shuffle=True, batch_size=TRAIN_BATCH_SIZE)\n",
    "\n",
    "train_loss = losses.CosineSimilarityLoss(model=model)\n"
   ]
  },
  {
   "cell_type": "code",
   "execution_count": 4,
   "id": "6a947a3f",
   "metadata": {},
   "outputs": [
    {
     "name": "stdout",
     "output_type": "stream",
     "text": [
      "2025-06-02 21:41:12 - Warm up steps: 106\n",
      "\n",
      "Started retriver fine-tuningu\n"
     ]
    },
    {
     "data": {
      "application/vnd.jupyter.widget-view+json": {
       "model_id": "8c916c48e32c4d39a4818cafa692c83b",
       "version_major": 2,
       "version_minor": 0
      },
      "text/plain": [
       "Computing widget examples:   0%|          | 0/1 [00:00<?, ?example/s]"
      ]
     },
     "metadata": {},
     "output_type": "display_data"
    },
    {
     "data": {
      "text/html": [
       "\n",
       "    <div>\n",
       "      \n",
       "      <progress value='1053' max='1053' style='width:300px; height:20px; vertical-align: middle;'></progress>\n",
       "      [1053/1053 04:31, Epoch 3/3]\n",
       "    </div>\n",
       "    <table border=\"1\" class=\"dataframe\">\n",
       "  <thead>\n",
       " <tr style=\"text-align: left;\">\n",
       "      <th>Step</th>\n",
       "      <th>Training Loss</th>\n",
       "    </tr>\n",
       "  </thead>\n",
       "  <tbody>\n",
       "    <tr>\n",
       "      <td>500</td>\n",
       "      <td>0.133600</td>\n",
       "    </tr>\n",
       "    <tr>\n",
       "      <td>1000</td>\n",
       "      <td>0.077000</td>\n",
       "    </tr>\n",
       "  </tbody>\n",
       "</table><p>"
      ],
      "text/plain": [
       "<IPython.core.display.HTML object>"
      ]
     },
     "metadata": {},
     "output_type": "display_data"
    },
    {
     "name": "stdout",
     "output_type": "stream",
     "text": [
      "2025-06-02 21:41:57 - Saving model checkpoint to ../models/retriever_finetuned_bge_base/checkpoints/checkpoint-175\n",
      "2025-06-02 21:41:57 - Save model to ../models/retriever_finetuned_bge_base/checkpoints/checkpoint-175\n",
      "2025-06-02 21:42:42 - Saving model checkpoint to ../models/retriever_finetuned_bge_base/checkpoints/checkpoint-350\n",
      "2025-06-02 21:42:42 - Save model to ../models/retriever_finetuned_bge_base/checkpoints/checkpoint-350\n",
      "2025-06-02 21:43:27 - Saving model checkpoint to ../models/retriever_finetuned_bge_base/checkpoints/checkpoint-525\n",
      "2025-06-02 21:43:27 - Save model to ../models/retriever_finetuned_bge_base/checkpoints/checkpoint-525\n",
      "2025-06-02 21:44:12 - Saving model checkpoint to ../models/retriever_finetuned_bge_base/checkpoints/checkpoint-700\n",
      "2025-06-02 21:44:12 - Save model to ../models/retriever_finetuned_bge_base/checkpoints/checkpoint-700\n",
      "2025-06-02 21:44:56 - Saving model checkpoint to ../models/retriever_finetuned_bge_base/checkpoints/checkpoint-875\n",
      "2025-06-02 21:44:56 - Save model to ../models/retriever_finetuned_bge_base/checkpoints/checkpoint-875\n",
      "2025-06-02 21:45:41 - Saving model checkpoint to ../models/retriever_finetuned_bge_base/checkpoints/checkpoint-1050\n",
      "2025-06-02 21:45:41 - Save model to ../models/retriever_finetuned_bge_base/checkpoints/checkpoint-1050\n",
      "2025-06-02 21:45:43 - Saving model checkpoint to ../models/retriever_finetuned_bge_base/checkpoints/checkpoint-1053\n",
      "2025-06-02 21:45:43 - Save model to ../models/retriever_finetuned_bge_base/checkpoints/checkpoint-1053\n",
      "2025-06-02 21:45:45 - Save model to ../models/retriever_finetuned_bge_base\n",
      "Fine-tuning finished\n"
     ]
    }
   ],
   "source": [
    "warmup_steps = math.ceil(len(train_dataloader) * NUM_EPOCHS * 0.1) \n",
    "logging.info(f\"Warm up steps: {warmup_steps}\")\n",
    "\n",
    "print(\"\\nStarted retriver fine-tuningu\")\n",
    "model.fit(train_objectives=[(train_dataloader, train_loss)],\n",
    "          epochs=NUM_EPOCHS,\n",
    "          warmup_steps=warmup_steps,\n",
    "          output_path=FINETUNED_MODEL_SAVE_PATH,\n",
    "          show_progress_bar=True,\n",
    "          # optimizer_class=torch.optim.AdamW # default\n",
    "          weight_decay=0.01,\n",
    "          save_best_model=True,\n",
    "          checkpoint_path=os.path.join(FINETUNED_MODEL_SAVE_PATH, \"checkpoints\"),\n",
    "          checkpoint_save_steps=int(len(train_dataloader) * 0.5),\n",
    "          checkpoint_save_total_limit=3\n",
    "         )\n",
    "\n",
    "print(\"Fine-tuning finished\")"
   ]
  },
  {
   "cell_type": "code",
   "execution_count": 5,
   "id": "8115cea1",
   "metadata": {},
   "outputs": [
    {
     "name": "stdout",
     "output_type": "stream",
     "text": [
      "2025-06-02 21:45:46 - Save model to ../models/retriever_finetuned_bge_base/final_model\n",
      "Last epoch model saved to: ../models/retriever_finetuned_bge_base\n"
     ]
    }
   ],
   "source": [
    "final_model_path = os.path.join(FINETUNED_MODEL_SAVE_PATH, \"final_model\")\n",
    "model.save(final_model_path)\n",
    "print(f\"Last epoch model saved to: {FINETUNED_MODEL_SAVE_PATH}\")"
   ]
  }
 ],
 "metadata": {
  "kernelspec": {
   "display_name": ".venv",
   "language": "python",
   "name": "python3"
  },
  "language_info": {
   "codemirror_mode": {
    "name": "ipython",
    "version": 3
   },
   "file_extension": ".py",
   "mimetype": "text/x-python",
   "name": "python",
   "nbconvert_exporter": "python",
   "pygments_lexer": "ipython3",
   "version": "3.12.3"
  }
 },
 "nbformat": 4,
 "nbformat_minor": 5
}
