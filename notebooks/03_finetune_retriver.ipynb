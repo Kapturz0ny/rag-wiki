{
 "cells": [
  {
   "cell_type": "code",
   "execution_count": 1,
   "id": "eed8eac7",
   "metadata": {},
   "outputs": [
    {
     "name": "stdout",
     "output_type": "stream",
     "text": [
      "Using device: cuda\n"
     ]
    }
   ],
   "source": [
    "import os\n",
    "import json\n",
    "from tqdm.auto import tqdm\n",
    "from sentence_transformers import SentenceTransformer, InputExample, losses, LoggingHandler\n",
    "from torch.utils.data import DataLoader\n",
    "import logging\n",
    "import math\n",
    "import torch\n",
    "\n",
    "\n",
    "logging.basicConfig(format='%(asctime)s - %(message)s',\n",
    "                    datefmt='%Y-%m-%d %H:%M:%S',\n",
    "                    level=logging.INFO,\n",
    "                    handlers=[LoggingHandler()])\n",
    "\n",
    "\n",
    "DATA_PROCESSED_PATH = \"../data/processed\"\n",
    "TRAINING_DATA_FILE = \"retriever_training_data.jsonl\"\n",
    "MODEL_BASE_NAME = \"BAAI/bge-base-en-v1.5\" # retriver for fine-tuning\n",
    "FINETUNED_MODEL_SAVE_PATH = \"../models/retriever_finetuned_bge_base\"\n",
    "\n",
    "\n",
    "NUM_EPOCHS = 3\n",
    "TRAIN_BATCH_SIZE = 16\n",
    "\n",
    "DEVICE = \"cuda\" if torch.cuda.is_available() else \"cpu\"\n",
    "print(f\"Using device: {DEVICE}\")\n",
    "\n",
    "\n",
    "training_data_path = os.path.join(DATA_PROCESSED_PATH, TRAINING_DATA_FILE)\n",
    "os.makedirs(FINETUNED_MODEL_SAVE_PATH, exist_ok=True)\n",
    "\n",
    "if not os.path.exists(training_data_path):\n",
    "    raise FileNotFoundError(f\"Training file not found: {training_data_path}\")"
   ]
  },
  {
   "cell_type": "code",
   "execution_count": 2,
   "id": "e898eebb",
   "metadata": {},
   "outputs": [
    {
     "data": {
      "application/vnd.jupyter.widget-view+json": {
       "model_id": "6a4dd5f7ee604fb7b2f880ab6e3616b5",
       "version_major": 2,
       "version_minor": 0
      },
      "text/plain": [
       "Loading training data: 0it [00:00, ?it/s]"
      ]
     },
     "metadata": {},
     "output_type": "display_data"
    }
   ],
   "source": [
    "train_samples = []\n",
    "with open(training_data_path, 'r', encoding='utf-8') as f:\n",
    "    for line in tqdm(f, desc=\"Loading training data\"):\n",
    "        data = json.loads(line)\n",
    "        train_samples.append(InputExample(texts=[data['query'], data['passage']], label=float(data['label'])))\n",
    "\n",
    "if not train_samples:\n",
    "    raise ValueError(\"Training data not loaded\")"
   ]
  },
  {
   "cell_type": "code",
   "execution_count": 3,
   "id": "252d670e",
   "metadata": {},
   "outputs": [
    {
     "name": "stdout",
     "output_type": "stream",
     "text": [
      "2025-06-02 22:22:42 - Load pretrained SentenceTransformer: BAAI/bge-base-en-v1.5\n",
      "Base model loaded.\n"
     ]
    }
   ],
   "source": [
    "model = SentenceTransformer(MODEL_BASE_NAME, device=DEVICE)\n",
    "print(\"Base model loaded.\")\n",
    "\n",
    "train_dataloader = DataLoader(train_samples, shuffle=True, batch_size=TRAIN_BATCH_SIZE)\n",
    "\n",
    "train_loss = losses.CosineSimilarityLoss(model=model)\n"
   ]
  },
  {
   "cell_type": "code",
   "execution_count": 4,
   "id": "6a947a3f",
   "metadata": {},
   "outputs": [
    {
     "name": "stdout",
     "output_type": "stream",
     "text": [
      "2025-06-02 22:22:46 - Warm up steps: 106\n",
      "\n",
      "Started retriver fine-tuningu\n"
     ]
    },
    {
     "data": {
      "application/vnd.jupyter.widget-view+json": {
       "model_id": "f647139ba8ef45e6afc1bd3739309bb3",
       "version_major": 2,
       "version_minor": 0
      },
      "text/plain": [
       "Computing widget examples:   0%|          | 0/1 [00:00<?, ?example/s]"
      ]
     },
     "metadata": {},
     "output_type": "display_data"
    },
    {
     "data": {
      "text/html": [
       "\n",
       "    <div>\n",
       "      \n",
       "      <progress value='1053' max='1053' style='width:300px; height:20px; vertical-align: middle;'></progress>\n",
       "      [1053/1053 04:31, Epoch 3/3]\n",
       "    </div>\n",
       "    <table border=\"1\" class=\"dataframe\">\n",
       "  <thead>\n",
       " <tr style=\"text-align: left;\">\n",
       "      <th>Step</th>\n",
       "      <th>Training Loss</th>\n",
       "    </tr>\n",
       "  </thead>\n",
       "  <tbody>\n",
       "    <tr>\n",
       "      <td>500</td>\n",
       "      <td>0.133600</td>\n",
       "    </tr>\n",
       "    <tr>\n",
       "      <td>1000</td>\n",
       "      <td>0.078700</td>\n",
       "    </tr>\n",
       "  </tbody>\n",
       "</table><p>"
      ],
      "text/plain": [
       "<IPython.core.display.HTML object>"
      ]
     },
     "metadata": {},
     "output_type": "display_data"
    },
    {
     "name": "stdout",
     "output_type": "stream",
     "text": [
      "2025-06-02 22:23:31 - Saving model checkpoint to ../models/retriever_finetuned_bge_base/checkpoints/checkpoint-175\n",
      "2025-06-02 22:23:31 - Save model to ../models/retriever_finetuned_bge_base/checkpoints/checkpoint-175\n",
      "2025-06-02 22:24:15 - Saving model checkpoint to ../models/retriever_finetuned_bge_base/checkpoints/checkpoint-350\n",
      "2025-06-02 22:24:15 - Save model to ../models/retriever_finetuned_bge_base/checkpoints/checkpoint-350\n",
      "2025-06-02 22:24:59 - Saving model checkpoint to ../models/retriever_finetuned_bge_base/checkpoints/checkpoint-525\n",
      "2025-06-02 22:24:59 - Save model to ../models/retriever_finetuned_bge_base/checkpoints/checkpoint-525\n",
      "2025-06-02 22:25:45 - Saving model checkpoint to ../models/retriever_finetuned_bge_base/checkpoints/checkpoint-700\n",
      "2025-06-02 22:25:45 - Save model to ../models/retriever_finetuned_bge_base/checkpoints/checkpoint-700\n",
      "2025-06-02 22:26:32 - Saving model checkpoint to ../models/retriever_finetuned_bge_base/checkpoints/checkpoint-875\n",
      "2025-06-02 22:26:32 - Save model to ../models/retriever_finetuned_bge_base/checkpoints/checkpoint-875\n",
      "2025-06-02 22:27:16 - Saving model checkpoint to ../models/retriever_finetuned_bge_base/checkpoints/checkpoint-1050\n",
      "2025-06-02 22:27:16 - Save model to ../models/retriever_finetuned_bge_base/checkpoints/checkpoint-1050\n",
      "2025-06-02 22:27:18 - Saving model checkpoint to ../models/retriever_finetuned_bge_base/checkpoints/checkpoint-1053\n",
      "2025-06-02 22:27:18 - Save model to ../models/retriever_finetuned_bge_base/checkpoints/checkpoint-1053\n",
      "2025-06-02 22:27:20 - Save model to ../models/retriever_finetuned_bge_base\n",
      "Fine-tuning finished\n"
     ]
    }
   ],
   "source": [
    "warmup_steps = math.ceil(len(train_dataloader) * NUM_EPOCHS * 0.1) \n",
    "logging.info(f\"Warm up steps: {warmup_steps}\")\n",
    "\n",
    "print(\"\\nStarted retriver fine-tuningu\")\n",
    "model.fit(train_objectives=[(train_dataloader, train_loss)],\n",
    "          epochs=NUM_EPOCHS,\n",
    "          warmup_steps=warmup_steps,\n",
    "          output_path=FINETUNED_MODEL_SAVE_PATH,\n",
    "          show_progress_bar=True,\n",
    "          # optimizer_class=torch.optim.AdamW # default\n",
    "          weight_decay=0.01,\n",
    "          save_best_model=True,\n",
    "          checkpoint_path=os.path.join(FINETUNED_MODEL_SAVE_PATH, \"checkpoints\"),\n",
    "          checkpoint_save_steps=int(len(train_dataloader) * 0.5),\n",
    "          checkpoint_save_total_limit=3\n",
    "         )\n",
    "\n",
    "print(\"Fine-tuning finished\")"
   ]
  },
  {
   "cell_type": "code",
   "execution_count": 5,
   "id": "8115cea1",
   "metadata": {},
   "outputs": [
    {
     "name": "stdout",
     "output_type": "stream",
     "text": [
      "2025-06-02 22:27:22 - Save model to ../models/retriever_finetuned_bge_base/final_model\n",
      "Last epoch model saved to: ../models/retriever_finetuned_bge_base\n"
     ]
    }
   ],
   "source": [
    "final_model_path = os.path.join(FINETUNED_MODEL_SAVE_PATH, \"final_model\")\n",
    "model.save(final_model_path)\n",
    "print(f\"Last epoch model saved to: {FINETUNED_MODEL_SAVE_PATH}\")"
   ]
  },
  {
   "cell_type": "code",
   "execution_count": 3,
   "id": "0a3d84cf",
   "metadata": {},
   "outputs": [
    {
     "name": "stdout",
     "output_type": "stream",
     "text": [
      "Uploading files from ../models/retriever_finetuned_bge_base to Kapturz0ny/wiki-retriver...\n"
     ]
    },
    {
     "data": {
      "application/vnd.jupyter.widget-view+json": {
       "model_id": "fbd88b2984074b59b1730465c6331c44",
       "version_major": 2,
       "version_minor": 0
      },
      "text/plain": [
       "rng_state.pth:   0%|          | 0.00/14.6k [00:00<?, ?B/s]"
      ]
     },
     "metadata": {},
     "output_type": "display_data"
    },
    {
     "data": {
      "application/vnd.jupyter.widget-view+json": {
       "model_id": "1986eedd06a44aa18a9bf6dcdfc40519",
       "version_major": 2,
       "version_minor": 0
      },
      "text/plain": [
       "training_args.bin:   0%|          | 0.00/5.97k [00:00<?, ?B/s]"
      ]
     },
     "metadata": {},
     "output_type": "display_data"
    },
    {
     "data": {
      "application/vnd.jupyter.widget-view+json": {
       "model_id": "89c221e8136c46768d7acae6e59ee1be",
       "version_major": 2,
       "version_minor": 0
      },
      "text/plain": [
       "scheduler.pt:   0%|          | 0.00/1.47k [00:00<?, ?B/s]"
      ]
     },
     "metadata": {},
     "output_type": "display_data"
    },
    {
     "data": {
      "application/vnd.jupyter.widget-view+json": {
       "model_id": "140d9ab733d9450e97175028c0bfdad5",
       "version_major": 2,
       "version_minor": 0
      },
      "text/plain": [
       "optimizer.pt:   0%|          | 0.00/871M [00:00<?, ?B/s]"
      ]
     },
     "metadata": {},
     "output_type": "display_data"
    },
    {
     "data": {
      "application/vnd.jupyter.widget-view+json": {
       "model_id": "aa5153e98f9d4383ba474f55510892f4",
       "version_major": 2,
       "version_minor": 0
      },
      "text/plain": [
       "model.safetensors:   0%|          | 0.00/438M [00:00<?, ?B/s]"
      ]
     },
     "metadata": {},
     "output_type": "display_data"
    },
    {
     "data": {
      "application/vnd.jupyter.widget-view+json": {
       "model_id": "c12f3a26f7f34ab6a9db8a159f9a8f63",
       "version_major": 2,
       "version_minor": 0
      },
      "text/plain": [
       "Upload 17 LFS files:   0%|          | 0/17 [00:00<?, ?it/s]"
      ]
     },
     "metadata": {},
     "output_type": "display_data"
    },
    {
     "data": {
      "application/vnd.jupyter.widget-view+json": {
       "model_id": "7999f93daf0a4b0986e58ff0c6b6b3c8",
       "version_major": 2,
       "version_minor": 0
      },
      "text/plain": [
       "model.safetensors:   0%|          | 0.00/438M [00:00<?, ?B/s]"
      ]
     },
     "metadata": {},
     "output_type": "display_data"
    },
    {
     "data": {
      "application/vnd.jupyter.widget-view+json": {
       "model_id": "80ae1187f7fa488996d8153f37f15f7f",
       "version_major": 2,
       "version_minor": 0
      },
      "text/plain": [
       "optimizer.pt:   0%|          | 0.00/871M [00:00<?, ?B/s]"
      ]
     },
     "metadata": {},
     "output_type": "display_data"
    },
    {
     "data": {
      "application/vnd.jupyter.widget-view+json": {
       "model_id": "ed58085ad5b844c68924262e5fc7b2df",
       "version_major": 2,
       "version_minor": 0
      },
      "text/plain": [
       "rng_state.pth:   0%|          | 0.00/14.6k [00:00<?, ?B/s]"
      ]
     },
     "metadata": {},
     "output_type": "display_data"
    },
    {
     "data": {
      "application/vnd.jupyter.widget-view+json": {
       "model_id": "54c58c5f0b1444a3bcc7c454f00ff6a4",
       "version_major": 2,
       "version_minor": 0
      },
      "text/plain": [
       "scheduler.pt:   0%|          | 0.00/1.47k [00:00<?, ?B/s]"
      ]
     },
     "metadata": {},
     "output_type": "display_data"
    },
    {
     "data": {
      "application/vnd.jupyter.widget-view+json": {
       "model_id": "2f78ae03fa0544fc8c27406a758199a2",
       "version_major": 2,
       "version_minor": 0
      },
      "text/plain": [
       "training_args.bin:   0%|          | 0.00/5.97k [00:00<?, ?B/s]"
      ]
     },
     "metadata": {},
     "output_type": "display_data"
    },
    {
     "data": {
      "application/vnd.jupyter.widget-view+json": {
       "model_id": "ae16341e14744efd871c68d2ef497d56",
       "version_major": 2,
       "version_minor": 0
      },
      "text/plain": [
       "model.safetensors:   0%|          | 0.00/438M [00:00<?, ?B/s]"
      ]
     },
     "metadata": {},
     "output_type": "display_data"
    },
    {
     "data": {
      "application/vnd.jupyter.widget-view+json": {
       "model_id": "0897b19ac0ad4310a38d7c6a35a8948a",
       "version_major": 2,
       "version_minor": 0
      },
      "text/plain": [
       "optimizer.pt:   0%|          | 0.00/871M [00:00<?, ?B/s]"
      ]
     },
     "metadata": {},
     "output_type": "display_data"
    },
    {
     "data": {
      "application/vnd.jupyter.widget-view+json": {
       "model_id": "bd71fb3f5da3475aa4d72c20e883f931",
       "version_major": 2,
       "version_minor": 0
      },
      "text/plain": [
       "rng_state.pth:   0%|          | 0.00/14.6k [00:00<?, ?B/s]"
      ]
     },
     "metadata": {},
     "output_type": "display_data"
    },
    {
     "data": {
      "application/vnd.jupyter.widget-view+json": {
       "model_id": "137df3a1776a4759bcd4f5dac7f39647",
       "version_major": 2,
       "version_minor": 0
      },
      "text/plain": [
       "scheduler.pt:   0%|          | 0.00/1.47k [00:00<?, ?B/s]"
      ]
     },
     "metadata": {},
     "output_type": "display_data"
    },
    {
     "data": {
      "application/vnd.jupyter.widget-view+json": {
       "model_id": "d8ed25218600496686fb695de7c5a8b9",
       "version_major": 2,
       "version_minor": 0
      },
      "text/plain": [
       "training_args.bin:   0%|          | 0.00/5.97k [00:00<?, ?B/s]"
      ]
     },
     "metadata": {},
     "output_type": "display_data"
    },
    {
     "data": {
      "application/vnd.jupyter.widget-view+json": {
       "model_id": "d7946923df034e328161dffa9d4b776e",
       "version_major": 2,
       "version_minor": 0
      },
      "text/plain": [
       "model.safetensors:   0%|          | 0.00/438M [00:00<?, ?B/s]"
      ]
     },
     "metadata": {},
     "output_type": "display_data"
    },
    {
     "data": {
      "application/vnd.jupyter.widget-view+json": {
       "model_id": "cfa38344c903409e9adb52a82e2dcff1",
       "version_major": 2,
       "version_minor": 0
      },
      "text/plain": [
       "model.safetensors:   0%|          | 0.00/438M [00:00<?, ?B/s]"
      ]
     },
     "metadata": {},
     "output_type": "display_data"
    },
    {
     "name": "stdout",
     "output_type": "stream",
     "text": [
      "Upload finished\n"
     ]
    }
   ],
   "source": [
    "from huggingface_hub import HfApi, upload_folder\n",
    "\n",
    "api = HfApi()\n",
    "\n",
    "\n",
    "folder_path_to_upload = FINETUNED_MODEL_SAVE_PATH\n",
    "repo_id = \"Kapturz0ny/wiki-retriver\"\n",
    "\n",
    "try:\n",
    "    api.create_repo(repo_id=repo_id, repo_type=\"model\", exist_ok=True) # exist_ok=True, aby nie było błędu, jeśli już istnieje\n",
    "\n",
    "    print(f\"Uploading files from {folder_path_to_upload} to {repo_id}...\")\n",
    "    upload_folder(\n",
    "        folder_path=folder_path_to_upload,\n",
    "        repo_id=repo_id,\n",
    "        repo_type=\"model\",\n",
    "        commit_message=\"Upload fine-tuned retriever model\"\n",
    "    )\n",
    "    print(\"Upload finished\")\n",
    "except Exception as e:\n",
    "    print(f\"Error while uploading: {e}\")"
   ]
  }
 ],
 "metadata": {
  "kernelspec": {
   "display_name": ".venv",
   "language": "python",
   "name": "python3"
  },
  "language_info": {
   "codemirror_mode": {
    "name": "ipython",
    "version": 3
   },
   "file_extension": ".py",
   "mimetype": "text/x-python",
   "name": "python",
   "nbconvert_exporter": "python",
   "pygments_lexer": "ipython3",
   "version": "3.12.3"
  }
 },
 "nbformat": 4,
 "nbformat_minor": 5
}
